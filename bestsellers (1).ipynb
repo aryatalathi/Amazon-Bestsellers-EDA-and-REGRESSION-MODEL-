{
 "cells": [
  {
   "cell_type": "code",
   "execution_count": 1,
   "metadata": {
    "_cell_guid": "b1076dfc-b9ad-4769-8c92-a6c4dae69d19",
    "_uuid": "8f2839f25d086af736a60e9eeb907d3b93b6e0e5",
    "execution": {
     "iopub.execute_input": "2021-01-17T13:25:53.920314Z",
     "iopub.status.busy": "2021-01-17T13:25:53.919637Z",
     "iopub.status.idle": "2021-01-17T13:25:53.930022Z",
     "shell.execute_reply": "2021-01-17T13:25:53.930499Z"
    },
    "papermill": {
     "duration": 0.040402,
     "end_time": "2021-01-17T13:25:53.930669",
     "exception": false,
     "start_time": "2021-01-17T13:25:53.890267",
     "status": "completed"
    },
    "tags": []
   },
   "outputs": [
    {
     "name": "stdout",
     "output_type": "stream",
     "text": [
      "/kaggle/input/amazon-top-50-bestselling-books-2009-2019/bestsellers with categories.csv\n"
     ]
    }
   ],
   "source": [
    "# This Python 3 environment comes with many helpful analytics libraries installed\n",
    "# It is defined by the kaggle/python Docker image: https://github.com/kaggle/docker-python\n",
    "# For example, here's several helpful packages to load\n",
    "\n",
    "import numpy as np # linear algebra\n",
    "import pandas as pd # data processing, CSV file I/O (e.g. pd.read_csv)\n",
    "\n",
    "# Input data files are available in the read-only \"../input/\" directory\n",
    "# For example, running this (by clicking run or pressing Shift+Enter) will list all files under the input directory\n",
    "\n",
    "import os\n",
    "for dirname, _, filenames in os.walk('/kaggle/input'):\n",
    "    for filename in filenames:\n",
    "        print(os.path.join(dirname, filename))\n",
    "\n",
    "# You can write up to 20GB to the current directory (/kaggle/working/) that gets preserved as output when you create a version using \"Save & Run All\" \n",
    "# You can also write temporary files to /kaggle/temp/, but they won't be saved outside of the current session"
   ]
  },
  {
   "cell_type": "code",
   "execution_count": 2,
   "metadata": {
    "_cell_guid": "79c7e3d0-c299-4dcb-8224-4455121ee9b0",
    "_uuid": "d629ff2d2480ee46fbb7e2d37f6b5fab8052498a",
    "execution": {
     "iopub.execute_input": "2021-01-17T13:25:53.979589Z",
     "iopub.status.busy": "2021-01-17T13:25:53.978954Z",
     "iopub.status.idle": "2021-01-17T13:25:56.485279Z",
     "shell.execute_reply": "2021-01-17T13:25:56.484546Z"
    },
    "papermill": {
     "duration": 2.531061,
     "end_time": "2021-01-17T13:25:56.485410",
     "exception": false,
     "start_time": "2021-01-17T13:25:53.954349",
     "status": "completed"
    },
    "tags": []
   },
   "outputs": [],
   "source": [
    "#Importing required libraries\n",
    "\n",
    "from sklearn.model_selection import train_test_split                \n",
    "from sklearn.tree import DecisionTreeClassifier                     \n",
    "from sklearn.metrics import accuracy_score                          \n",
    "from sklearn.metrics import classification_report                   \n",
    "from sklearn import tree    \n",
    "from sklearn.preprocessing import LabelEncoder\n",
    "from sklearn.neighbors import KNeighborsClassifier\n",
    "import seaborn as sns\n",
    "import matplotlib.pyplot as plt\n",
    "import plotly.express as px\n",
    "import math\n",
    "from sklearn.metrics import mean_absolute_error\n",
    "from sklearn.metrics import mean_squared_error\n",
    "from sklearn.metrics import r2_score\n",
    "from wordcloud import WordCloud , ImageColorGenerator\n",
    "from PIL import Image"
   ]
  },
  {
   "cell_type": "markdown",
   "metadata": {
    "papermill": {
     "duration": 0.02166,
     "end_time": "2021-01-17T13:25:56.529193",
     "exception": false,
     "start_time": "2021-01-17T13:25:56.507533",
     "status": "completed"
    },
    "tags": []
   },
   "source": [
    "The points discussed :\n",
    "1. Total number of unique books\n",
    "2. Total number of unique authors\n",
    "3. Percentage of Fictional and non-fictional books\n",
    "4. Variations in books with respect to year\n",
    "5. Distribution of books :\n",
    "    1. wrt Price\n",
    "    2. wrt Reviews\n",
    "    3. wrt User Rating\n",
    "6. First 10 Books with the Most Reviews\n",
    "7. First 10 Books with the Highest user ratings\n",
    "8. First 10 Authors with the Highest reviews\n",
    "9. First 10 Authors with the Highest user ratings\n",
    "10. Linear Regression Model\n",
    "11. Calculation of errors (MAE,R2 score)\n",
    "12. Decision Tree Classifier for Genre Prediction\n",
    "13. Decision Tree Classifier for User Rating Prediction"
   ]
  },
  {
   "cell_type": "markdown",
   "metadata": {
    "papermill": {
     "duration": 0.021622,
     "end_time": "2021-01-17T13:25:56.572969",
     "exception": false,
     "start_time": "2021-01-17T13:25:56.551347",
     "status": "completed"
    },
    "tags": []
   },
   "source": [
    "# **1. Import Data**"
   ]
  },
  {
   "cell_type": "code",
   "execution_count": 3,
   "metadata": {
    "execution": {
     "iopub.execute_input": "2021-01-17T13:25:56.621769Z",
     "iopub.status.busy": "2021-01-17T13:25:56.621126Z",
     "iopub.status.idle": "2021-01-17T13:25:56.642755Z",
     "shell.execute_reply": "2021-01-17T13:25:56.642195Z"
    },
    "papermill": {
     "duration": 0.04679,
     "end_time": "2021-01-17T13:25:56.642903",
     "exception": false,
     "start_time": "2021-01-17T13:25:56.596113",
     "status": "completed"
    },
    "tags": []
   },
   "outputs": [],
   "source": [
    "#import data\n",
    "df = pd.read_csv('../input/amazon-top-50-bestselling-books-2009-2019/bestsellers with categories.csv')"
   ]
  },
  {
   "cell_type": "code",
   "execution_count": 4,
   "metadata": {
    "execution": {
     "iopub.execute_input": "2021-01-17T13:25:56.715414Z",
     "iopub.status.busy": "2021-01-17T13:25:56.714371Z",
     "iopub.status.idle": "2021-01-17T13:25:56.717987Z",
     "shell.execute_reply": "2021-01-17T13:25:56.718722Z"
    },
    "papermill": {
     "duration": 0.050846,
     "end_time": "2021-01-17T13:25:56.718927",
     "exception": false,
     "start_time": "2021-01-17T13:25:56.668081",
     "status": "completed"
    },
    "tags": []
   },
   "outputs": [
    {
     "name": "stdout",
     "output_type": "stream",
     "text": [
      "<class 'pandas.core.frame.DataFrame'>\n",
      "RangeIndex: 550 entries, 0 to 549\n",
      "Data columns (total 7 columns):\n",
      " #   Column       Non-Null Count  Dtype  \n",
      "---  ------       --------------  -----  \n",
      " 0   Name         550 non-null    object \n",
      " 1   Author       550 non-null    object \n",
      " 2   User Rating  550 non-null    float64\n",
      " 3   Reviews      550 non-null    int64  \n",
      " 4   Price        550 non-null    int64  \n",
      " 5   Year         550 non-null    int64  \n",
      " 6   Genre        550 non-null    object \n",
      "dtypes: float64(1), int64(3), object(3)\n",
      "memory usage: 30.2+ KB\n"
     ]
    }
   ],
   "source": [
    "#exploring data\n",
    "df.info()"
   ]
  },
  {
   "cell_type": "code",
   "execution_count": 5,
   "metadata": {
    "execution": {
     "iopub.execute_input": "2021-01-17T13:25:56.776537Z",
     "iopub.status.busy": "2021-01-17T13:25:56.775854Z",
     "iopub.status.idle": "2021-01-17T13:25:56.779894Z",
     "shell.execute_reply": "2021-01-17T13:25:56.779327Z"
    },
    "papermill": {
     "duration": 0.032767,
     "end_time": "2021-01-17T13:25:56.780010",
     "exception": false,
     "start_time": "2021-01-17T13:25:56.747243",
     "status": "completed"
    },
    "tags": []
   },
   "outputs": [
    {
     "data": {
      "text/plain": [
       "351"
      ]
     },
     "execution_count": 5,
     "metadata": {},
     "output_type": "execute_result"
    }
   ],
   "source": [
    "Books = df.Name.nunique()  #number of unique book names\n",
    "Books"
   ]
  },
  {
   "cell_type": "code",
   "execution_count": 6,
   "metadata": {
    "execution": {
     "iopub.execute_input": "2021-01-17T13:25:56.831944Z",
     "iopub.status.busy": "2021-01-17T13:25:56.830956Z",
     "iopub.status.idle": "2021-01-17T13:25:56.835240Z",
     "shell.execute_reply": "2021-01-17T13:25:56.835650Z"
    },
    "papermill": {
     "duration": 0.031926,
     "end_time": "2021-01-17T13:25:56.835811",
     "exception": false,
     "start_time": "2021-01-17T13:25:56.803885",
     "status": "completed"
    },
    "tags": []
   },
   "outputs": [
    {
     "data": {
      "text/plain": [
       "248"
      ]
     },
     "execution_count": 6,
     "metadata": {},
     "output_type": "execute_result"
    }
   ],
   "source": [
    "Authors = df.Author.nunique()  #number of unique authors\n",
    "Authors "
   ]
  },
  {
   "cell_type": "markdown",
   "metadata": {
    "papermill": {
     "duration": 0.02274,
     "end_time": "2021-01-17T13:25:56.881628",
     "exception": false,
     "start_time": "2021-01-17T13:25:56.858888",
     "status": "completed"
    },
    "tags": []
   },
   "source": [
    "# **2. Data Interpretation**\n",
    "*Checking Statistics, Null values if any, Total no of rows and columns*"
   ]
  },
  {
   "cell_type": "code",
   "execution_count": 7,
   "metadata": {
    "execution": {
     "iopub.execute_input": "2021-01-17T13:25:56.933474Z",
     "iopub.status.busy": "2021-01-17T13:25:56.932472Z",
     "iopub.status.idle": "2021-01-17T13:25:56.941650Z",
     "shell.execute_reply": "2021-01-17T13:25:56.941145Z"
    },
    "papermill": {
     "duration": 0.036148,
     "end_time": "2021-01-17T13:25:56.941781",
     "exception": false,
     "start_time": "2021-01-17T13:25:56.905633",
     "status": "completed"
    },
    "tags": []
   },
   "outputs": [
    {
     "data": {
      "text/plain": [
       "Name           0\n",
       "Author         0\n",
       "User Rating    0\n",
       "Reviews        0\n",
       "Price          0\n",
       "Year           0\n",
       "Genre          0\n",
       "dtype: int64"
      ]
     },
     "execution_count": 7,
     "metadata": {},
     "output_type": "execute_result"
    }
   ],
   "source": [
    "#check null values if any\n",
    "df.isnull().sum()"
   ]
  },
  {
   "cell_type": "code",
   "execution_count": 8,
   "metadata": {
    "execution": {
     "iopub.execute_input": "2021-01-17T13:25:57.001076Z",
     "iopub.status.busy": "2021-01-17T13:25:57.000343Z",
     "iopub.status.idle": "2021-01-17T13:25:57.021174Z",
     "shell.execute_reply": "2021-01-17T13:25:57.021597Z"
    },
    "papermill": {
     "duration": 0.054939,
     "end_time": "2021-01-17T13:25:57.021775",
     "exception": false,
     "start_time": "2021-01-17T13:25:56.966836",
     "status": "completed"
    },
    "tags": []
   },
   "outputs": [
    {
     "data": {
      "text/html": [
       "<div>\n",
       "<style scoped>\n",
       "    .dataframe tbody tr th:only-of-type {\n",
       "        vertical-align: middle;\n",
       "    }\n",
       "\n",
       "    .dataframe tbody tr th {\n",
       "        vertical-align: top;\n",
       "    }\n",
       "\n",
       "    .dataframe thead th {\n",
       "        text-align: right;\n",
       "    }\n",
       "</style>\n",
       "<table border=\"1\" class=\"dataframe\">\n",
       "  <thead>\n",
       "    <tr style=\"text-align: right;\">\n",
       "      <th></th>\n",
       "      <th>User Rating</th>\n",
       "      <th>Reviews</th>\n",
       "      <th>Price</th>\n",
       "      <th>Year</th>\n",
       "    </tr>\n",
       "  </thead>\n",
       "  <tbody>\n",
       "    <tr>\n",
       "      <th>count</th>\n",
       "      <td>550.000000</td>\n",
       "      <td>550.000000</td>\n",
       "      <td>550.000000</td>\n",
       "      <td>550.000000</td>\n",
       "    </tr>\n",
       "    <tr>\n",
       "      <th>mean</th>\n",
       "      <td>4.618364</td>\n",
       "      <td>11953.281818</td>\n",
       "      <td>13.100000</td>\n",
       "      <td>2014.000000</td>\n",
       "    </tr>\n",
       "    <tr>\n",
       "      <th>std</th>\n",
       "      <td>0.226980</td>\n",
       "      <td>11731.132017</td>\n",
       "      <td>10.842262</td>\n",
       "      <td>3.165156</td>\n",
       "    </tr>\n",
       "    <tr>\n",
       "      <th>min</th>\n",
       "      <td>3.300000</td>\n",
       "      <td>37.000000</td>\n",
       "      <td>0.000000</td>\n",
       "      <td>2009.000000</td>\n",
       "    </tr>\n",
       "    <tr>\n",
       "      <th>25%</th>\n",
       "      <td>4.500000</td>\n",
       "      <td>4058.000000</td>\n",
       "      <td>7.000000</td>\n",
       "      <td>2011.000000</td>\n",
       "    </tr>\n",
       "    <tr>\n",
       "      <th>50%</th>\n",
       "      <td>4.700000</td>\n",
       "      <td>8580.000000</td>\n",
       "      <td>11.000000</td>\n",
       "      <td>2014.000000</td>\n",
       "    </tr>\n",
       "    <tr>\n",
       "      <th>75%</th>\n",
       "      <td>4.800000</td>\n",
       "      <td>17253.250000</td>\n",
       "      <td>16.000000</td>\n",
       "      <td>2017.000000</td>\n",
       "    </tr>\n",
       "    <tr>\n",
       "      <th>max</th>\n",
       "      <td>4.900000</td>\n",
       "      <td>87841.000000</td>\n",
       "      <td>105.000000</td>\n",
       "      <td>2019.000000</td>\n",
       "    </tr>\n",
       "  </tbody>\n",
       "</table>\n",
       "</div>"
      ],
      "text/plain": [
       "       User Rating       Reviews       Price         Year\n",
       "count   550.000000    550.000000  550.000000   550.000000\n",
       "mean      4.618364  11953.281818   13.100000  2014.000000\n",
       "std       0.226980  11731.132017   10.842262     3.165156\n",
       "min       3.300000     37.000000    0.000000  2009.000000\n",
       "25%       4.500000   4058.000000    7.000000  2011.000000\n",
       "50%       4.700000   8580.000000   11.000000  2014.000000\n",
       "75%       4.800000  17253.250000   16.000000  2017.000000\n",
       "max       4.900000  87841.000000  105.000000  2019.000000"
      ]
     },
     "execution_count": 8,
     "metadata": {},
     "output_type": "execute_result"
    }
   ],
   "source": [
    "#statistics\n",
    "df.describe()"
   ]
  },
  {
   "cell_type": "code",
   "execution_count": 9,
   "metadata": {
    "execution": {
     "iopub.execute_input": "2021-01-17T13:25:57.074158Z",
     "iopub.status.busy": "2021-01-17T13:25:57.073537Z",
     "iopub.status.idle": "2021-01-17T13:25:57.077992Z",
     "shell.execute_reply": "2021-01-17T13:25:57.078535Z"
    },
    "papermill": {
     "duration": 0.032449,
     "end_time": "2021-01-17T13:25:57.078716",
     "exception": false,
     "start_time": "2021-01-17T13:25:57.046267",
     "status": "completed"
    },
    "tags": []
   },
   "outputs": [
    {
     "data": {
      "text/plain": [
       "(550, 7)"
      ]
     },
     "execution_count": 9,
     "metadata": {},
     "output_type": "execute_result"
    }
   ],
   "source": [
    "#no of rows and columns\n",
    "df.shape"
   ]
  },
  {
   "cell_type": "markdown",
   "metadata": {
    "papermill": {
     "duration": 0.024139,
     "end_time": "2021-01-17T13:25:57.127588",
     "exception": false,
     "start_time": "2021-01-17T13:25:57.103449",
     "status": "completed"
    },
    "tags": []
   },
   "source": [
    "# **3. Data Cleaning : Label Encoding**"
   ]
  },
  {
   "cell_type": "code",
   "execution_count": 10,
   "metadata": {
    "execution": {
     "iopub.execute_input": "2021-01-17T13:25:57.198479Z",
     "iopub.status.busy": "2021-01-17T13:25:57.197804Z",
     "iopub.status.idle": "2021-01-17T13:25:57.206056Z",
     "shell.execute_reply": "2021-01-17T13:25:57.206596Z"
    },
    "papermill": {
     "duration": 0.05409,
     "end_time": "2021-01-17T13:25:57.206835",
     "exception": false,
     "start_time": "2021-01-17T13:25:57.152745",
     "status": "completed"
    },
    "tags": []
   },
   "outputs": [],
   "source": [
    "#label encoding of 4 columns\n",
    "from sklearn.preprocessing import LabelEncoder\n",
    "\n",
    "df1 = df.copy(deep = True)\n",
    "Genre = LabelEncoder()\n",
    "df1['Genre'] = Genre.fit_transform(df['Genre'])"
   ]
  },
  {
   "cell_type": "code",
   "execution_count": 11,
   "metadata": {
    "execution": {
     "iopub.execute_input": "2021-01-17T13:25:57.278490Z",
     "iopub.status.busy": "2021-01-17T13:25:57.277531Z",
     "iopub.status.idle": "2021-01-17T13:25:57.288033Z",
     "shell.execute_reply": "2021-01-17T13:25:57.288571Z"
    },
    "papermill": {
     "duration": 0.052382,
     "end_time": "2021-01-17T13:25:57.288754",
     "exception": false,
     "start_time": "2021-01-17T13:25:57.236372",
     "status": "completed"
    },
    "tags": []
   },
   "outputs": [],
   "source": [
    "from sklearn.preprocessing import LabelEncoder\n",
    "\n",
    "df2 = df1.copy(deep = True)\n",
    "Author = LabelEncoder()\n",
    "df2['Author'] = Author.fit_transform(df1['Author'])"
   ]
  },
  {
   "cell_type": "code",
   "execution_count": 12,
   "metadata": {
    "execution": {
     "iopub.execute_input": "2021-01-17T13:25:57.343741Z",
     "iopub.status.busy": "2021-01-17T13:25:57.343075Z",
     "iopub.status.idle": "2021-01-17T13:25:57.349154Z",
     "shell.execute_reply": "2021-01-17T13:25:57.349670Z"
    },
    "papermill": {
     "duration": 0.036043,
     "end_time": "2021-01-17T13:25:57.349854",
     "exception": false,
     "start_time": "2021-01-17T13:25:57.313811",
     "status": "completed"
    },
    "tags": []
   },
   "outputs": [],
   "source": [
    "from sklearn.preprocessing import LabelEncoder\n",
    "\n",
    "df3 = df2.copy(deep = True)\n",
    "Name = LabelEncoder()\n",
    "df3['Name'] = Name.fit_transform(df2['Name'])"
   ]
  },
  {
   "cell_type": "code",
   "execution_count": 13,
   "metadata": {
    "execution": {
     "iopub.execute_input": "2021-01-17T13:25:57.403559Z",
     "iopub.status.busy": "2021-01-17T13:25:57.402900Z",
     "iopub.status.idle": "2021-01-17T13:25:57.408656Z",
     "shell.execute_reply": "2021-01-17T13:25:57.409205Z"
    },
    "papermill": {
     "duration": 0.034545,
     "end_time": "2021-01-17T13:25:57.409358",
     "exception": false,
     "start_time": "2021-01-17T13:25:57.374813",
     "status": "completed"
    },
    "tags": []
   },
   "outputs": [],
   "source": [
    "from sklearn.preprocessing import LabelEncoder\n",
    "\n",
    "df4 = df3.copy(deep = True)\n",
    "Name = LabelEncoder()\n",
    "df4['User Rating'] = Name.fit_transform(df3['User Rating'])"
   ]
  },
  {
   "cell_type": "markdown",
   "metadata": {
    "papermill": {
     "duration": 0.024345,
     "end_time": "2021-01-17T13:25:57.458635",
     "exception": false,
     "start_time": "2021-01-17T13:25:57.434290",
     "status": "completed"
    },
    "tags": []
   },
   "source": [
    "# **4. Data Visualization**"
   ]
  },
  {
   "cell_type": "code",
   "execution_count": 14,
   "metadata": {
    "execution": {
     "iopub.execute_input": "2021-01-17T13:25:57.512501Z",
     "iopub.status.busy": "2021-01-17T13:25:57.511656Z",
     "iopub.status.idle": "2021-01-17T13:25:57.953356Z",
     "shell.execute_reply": "2021-01-17T13:25:57.952836Z"
    },
    "papermill": {
     "duration": 0.469107,
     "end_time": "2021-01-17T13:25:57.953463",
     "exception": false,
     "start_time": "2021-01-17T13:25:57.484356",
     "status": "completed"
    },
    "tags": []
   },
   "outputs": [
    {
     "data": {
      "image/png": "[encoded data removed]",
      "text/plain": [
       "<Figure size 864x576 with 2 Axes>"
      ]
     },
     "metadata": {
      "needs_background": "light"
     },
     "output_type": "display_data"
    }
   ],
   "source": [
    "#check correlation and plot heatmap \n",
    "corr1 = df4.corr()\n",
    "plt.figure(figsize = (12,8))\n",
    "sns.heatmap(corr1,annot=True)\n",
    "plt.show()"
   ]
  },
  {
   "cell_type": "code",
   "execution_count": 15,
   "metadata": {
    "execution": {
     "iopub.execute_input": "2021-01-17T13:25:58.017033Z",
     "iopub.status.busy": "2021-01-17T13:25:58.015923Z",
     "iopub.status.idle": "2021-01-17T13:25:59.417566Z",
     "shell.execute_reply": "2021-01-17T13:25:59.416833Z"
    },
    "papermill": {
     "duration": 1.437815,
     "end_time": "2021-01-17T13:25:59.417853",
     "exception": false,
     "start_time": "2021-01-17T13:25:57.980038",
     "status": "completed"
    },
    "tags": []
   },
   "outputs": [
    {
     "data": {
      "text/html": [
       "        <script type=\"text/javascript\">\n",
       "        window.PlotlyConfig = {MathJaxConfig: 'local'};\n",
       "        if (window.MathJax) {MathJax.Hub.Config({SVG: {font: \"STIX-Web\"}});}\n",
       "        if (typeof require !== 'undefined') {\n",
       "        require.undef(\"plotly\");\n",
       "        requirejs.config({\n",
       "            paths: {\n",
       "                'plotly': ['https://cdn.plot.ly/plotly-latest.min']\n",
       "            }\n",
       "        });\n",
       "        require(['plotly'], function(Plotly) {\n",
       "            window._Plotly = Plotly;\n",
       "        });\n",
       "        }\n",
       "        </script>\n",
       "        "
      ]
     },
     "metadata": {},
     "output_type": "display_data"
    },
    {
     "data": {
      "text/html": [
       "<div>                            <div id=\"209c3388-6405-49b9-9007-b550d6d7dd8a\" class=\"plotly-graph-div\" style=\"height:525px; width:100%;\"></div>            <script type=\"text/javascript\">                require([\"plotly\"], function(Plotly) {                    window.PLOTLYENV=window.PLOTLYENV || {};                                    if (document.getElementById(\"209c3388-6405-49b9-9007-b550d6d7dd8a\")) {                    Plotly.newPlot(                        \"209c3388-6405-49b9-9007-b550d6d7dd8a\",                        [{\"domain\": {\"x\": [0.0, 1.0], \"y\": [0.0, 1.0]}, \"hovertemplate\": \"Genre=%{label}<br>count=%{value}<extra></extra>\", \"labels\": [\"Non Fiction\", \"Fiction\"], \"legendgroup\": \"\", \"name\": \"\", \"showlegend\": true, \"type\": \"pie\", \"values\": [310, 240]}],                        {\"legend\": {\"tracegroupgap\": 0}, \"piecolorway\": [\"blue\", \"light green\"], \"template\": {\"data\": {\"bar\": [{\"error_x\": {\"color\": \"#2a3f5f\"}, \"error_y\": {\"color\": \"#2a3f5f\"}, \"marker\": {\"line\": {\"color\": \"#E5ECF6\", \"width\": 0.5}}, \"type\": \"bar\"}], \"barpolar\": [{\"marker\": {\"line\": {\"color\": \"#E5ECF6\", \"width\": 0.5}}, \"type\": \"barpolar\"}], \"carpet\": [{\"aaxis\": {\"endlinecolor\": \"#2a3f5f\", \"gridcolor\": \"white\", \"linecolor\": \"white\", \"minorgridcolor\": \"white\", \"startlinecolor\": \"#2a3f5f\"}, \"baxis\": {\"endlinecolor\": \"#2a3f5f\", \"gridcolor\": \"white\", \"linecolor\": \"white\", \"minorgridcolor\": \"white\", \"startlinecolor\": \"#2a3f5f\"}, \"type\": \"carpet\"}], \"choropleth\": [{\"colorbar\": {\"outlinewidth\": 0, \"ticks\": \"\"}, \"type\": \"choropleth\"}], \"contour\": [{\"colorbar\": {\"outlinewidth\": 0, \"ticks\": \"\"}, \"colorscale\": [[0.0, \"#0d0887\"], [0.1111111111111111, \"#46039f\"], [0.2222222222222222, \"#7201a8\"], [0.3333333333333333, \"#9c179e\"], [0.4444444444444444, \"#bd3786\"], [0.5555555555555556, \"#d8576b\"], [0.6666666666666666, \"#ed7953\"], [0.7777777777777778, \"#fb9f3a\"], [0.8888888888888888, \"#fdca26\"], [1.0, \"#f0f921\"]], \"type\": \"contour\"}], \"contourcarpet\": [{\"colorbar\": {\"outlinewidth\": 0, \"ticks\": \"\"}, \"type\": \"contourcarpet\"}], \"heatmap\": [{\"colorbar\": {\"outlinewidth\": 0, \"ticks\": \"\"}, \"colorscale\": [[0.0, \"#0d0887\"], [0.1111111111111111, \"#46039f\"], [0.2222222222222222, \"#7201a8\"], [0.3333333333333333, \"#9c179e\"], [0.4444444444444444, \"#bd3786\"], [0.5555555555555556, \"#d8576b\"], [0.6666666666666666, \"#ed7953\"], [0.7777777777777778, \"#fb9f3a\"], [0.8888888888888888, \"#fdca26\"], [1.0, \"#f0f921\"]], \"type\": \"heatmap\"}], \"heatmapgl\": [{\"colorbar\": {\"outlinewidth\": 0, \"ticks\": \"\"}, \"colorscale\": [[0.0, \"#0d0887\"], [0.1111111111111111, \"#46039f\"], [0.2222222222222222, \"#7201a8\"], [0.3333333333333333, \"#9c179e\"], [0.4444444444444444, \"#bd3786\"], [0.5555555555555556, \"#d8576b\"], [0.6666666666666666, \"#ed7953\"], [0.7777777777777778, \"#fb9f3a\"], [0.8888888888888888, \"#fdca26\"], [1.0, \"#f0f921\"]], \"type\": \"heatmapgl\"}], \"histogram\": [{\"marker\": {\"colorbar\": {\"outlinewidth\": 0, \"ticks\": \"\"}}, \"type\": \"histogram\"}], \"histogram2d\": [{\"colorbar\": {\"outlinewidth\": 0, \"ticks\": \"\"}, \"colorscale\": [[0.0, \"#0d0887\"], [0.1111111111111111, \"#46039f\"], [0.2222222222222222, \"#7201a8\"], [0.3333333333333333, \"#9c179e\"], [0.4444444444444444, \"#bd3786\"], [0.5555555555555556, \"#d8576b\"], [0.6666666666666666, \"#ed7953\"], [0.7777777777777778, \"#fb9f3a\"], [0.8888888888888888, \"#fdca26\"], [1.0, \"#f0f921\"]], \"type\": \"histogram2d\"}], \"histogram2dcontour\": [{\"colorbar\": {\"outlinewidth\": 0, \"ticks\": \"\"}, \"colorscale\": [[0.0, \"#0d0887\"], [0.1111111111111111, \"#46039f\"], [0.2222222222222222, \"#7201a8\"], [0.3333333333333333, \"#9c179e\"], [0.4444444444444444, \"#bd3786\"], [0.5555555555555556, \"#d8576b\"], [0.6666666666666666, \"#ed7953\"], [0.7777777777777778, \"#fb9f3a\"], [0.8888888888888888, \"#fdca26\"], [1.0, \"#f0f921\"]], \"type\": \"histogram2dcontour\"}], \"mesh3d\": [{\"colorbar\": {\"outlinewidth\": 0, \"ticks\": \"\"}, \"type\": \"mesh3d\"}], \"parcoords\": [{\"line\": {\"colorbar\": {\"outlinewidth\": 0, \"ticks\": \"\"}}, \"type\": \"parcoords\"}], \"pie\": [{\"automargin\": true, \"type\": \"pie\"}], \"scatter\": [{\"marker\": {\"colorbar\": {\"outlinewidth\": 0, \"ticks\": \"\"}}, \"type\": \"scatter\"}], \"scatter3d\": [{\"line\": {\"colorbar\": {\"outlinewidth\": 0, \"ticks\": \"\"}}, \"marker\": {\"colorbar\": {\"outlinewidth\": 0, \"ticks\": \"\"}}, \"type\": \"scatter3d\"}], \"scattercarpet\": [{\"marker\": {\"colorbar\": {\"outlinewidth\": 0, \"ticks\": \"\"}}, \"type\": \"scattercarpet\"}], \"scattergeo\": [{\"marker\": {\"colorbar\": {\"outlinewidth\": 0, \"ticks\": \"\"}}, \"type\": \"scattergeo\"}], \"scattergl\": [{\"marker\": {\"colorbar\": {\"outlinewidth\": 0, \"ticks\": \"\"}}, \"type\": \"scattergl\"}], \"scattermapbox\": [{\"marker\": {\"colorbar\": {\"outlinewidth\": 0, \"ticks\": \"\"}}, \"type\": \"scattermapbox\"}], \"scatterpolar\": [{\"marker\": {\"colorbar\": {\"outlinewidth\": 0, \"ticks\": \"\"}}, \"type\": \"scatterpolar\"}], \"scatterpolargl\": [{\"marker\": {\"colorbar\": {\"outlinewidth\": 0, \"ticks\": \"\"}}, \"type\": \"scatterpolargl\"}], \"scatterternary\": [{\"marker\": {\"colorbar\": {\"outlinewidth\": 0, \"ticks\": \"\"}}, \"type\": \"scatterternary\"}], \"surface\": [{\"colorbar\": {\"outlinewidth\": 0, \"ticks\": \"\"}, \"colorscale\": [[0.0, \"#0d0887\"], [0.1111111111111111, \"#46039f\"], [0.2222222222222222, \"#7201a8\"], [0.3333333333333333, \"#9c179e\"], [0.4444444444444444, \"#bd3786\"], [0.5555555555555556, \"#d8576b\"], [0.6666666666666666, \"#ed7953\"], [0.7777777777777778, \"#fb9f3a\"], [0.8888888888888888, \"#fdca26\"], [1.0, \"#f0f921\"]], \"type\": \"surface\"}], \"table\": [{\"cells\": {\"fill\": {\"color\": \"#EBF0F8\"}, \"line\": {\"color\": \"white\"}}, \"header\": {\"fill\": {\"color\": \"#C8D4E3\"}, \"line\": {\"color\": \"white\"}}, \"type\": \"table\"}]}, \"layout\": {\"annotationdefaults\": {\"arrowcolor\": \"#2a3f5f\", \"arrowhead\": 0, \"arrowwidth\": 1}, \"autotypenumbers\": \"strict\", \"coloraxis\": {\"colorbar\": {\"outlinewidth\": 0, \"ticks\": \"\"}}, \"colorscale\": {\"diverging\": [[0, \"#8e0152\"], [0.1, \"#c51b7d\"], [0.2, \"#de77ae\"], [0.3, \"#f1b6da\"], [0.4, \"#fde0ef\"], [0.5, \"#f7f7f7\"], [0.6, \"#e6f5d0\"], [0.7, \"#b8e186\"], [0.8, \"#7fbc41\"], [0.9, \"#4d9221\"], [1, \"#276419\"]], \"sequential\": [[0.0, \"#0d0887\"], [0.1111111111111111, \"#46039f\"], [0.2222222222222222, \"#7201a8\"], [0.3333333333333333, \"#9c179e\"], [0.4444444444444444, \"#bd3786\"], [0.5555555555555556, \"#d8576b\"], [0.6666666666666666, \"#ed7953\"], [0.7777777777777778, \"#fb9f3a\"], [0.8888888888888888, \"#fdca26\"], [1.0, \"#f0f921\"]], \"sequentialminus\": [[0.0, \"#0d0887\"], [0.1111111111111111, \"#46039f\"], [0.2222222222222222, \"#7201a8\"], [0.3333333333333333, \"#9c179e\"], [0.4444444444444444, \"#bd3786\"], [0.5555555555555556, \"#d8576b\"], [0.6666666666666666, \"#ed7953\"], [0.7777777777777778, \"#fb9f3a\"], [0.8888888888888888, \"#fdca26\"], [1.0, \"#f0f921\"]]}, \"colorway\": [\"#636efa\", \"#EF553B\", \"#00cc96\", \"#ab63fa\", \"#FFA15A\", \"#19d3f3\", \"#FF6692\", \"#B6E880\", \"#FF97FF\", \"#FECB52\"], \"font\": {\"color\": \"#2a3f5f\"}, \"geo\": {\"bgcolor\": \"white\", \"lakecolor\": \"white\", \"landcolor\": \"#E5ECF6\", \"showlakes\": true, \"showland\": true, \"subunitcolor\": \"white\"}, \"hoverlabel\": {\"align\": \"left\"}, \"hovermode\": \"closest\", \"mapbox\": {\"style\": \"light\"}, \"paper_bgcolor\": \"white\", \"plot_bgcolor\": \"#E5ECF6\", \"polar\": {\"angularaxis\": {\"gridcolor\": \"white\", \"linecolor\": \"white\", \"ticks\": \"\"}, \"bgcolor\": \"#E5ECF6\", \"radialaxis\": {\"gridcolor\": \"white\", \"linecolor\": \"white\", \"ticks\": \"\"}}, \"scene\": {\"xaxis\": {\"backgroundcolor\": \"#E5ECF6\", \"gridcolor\": \"white\", \"gridwidth\": 2, \"linecolor\": \"white\", \"showbackground\": true, \"ticks\": \"\", \"zerolinecolor\": \"white\"}, \"yaxis\": {\"backgroundcolor\": \"#E5ECF6\", \"gridcolor\": \"white\", \"gridwidth\": 2, \"linecolor\": \"white\", \"showbackground\": true, \"ticks\": \"\", \"zerolinecolor\": \"white\"}, \"zaxis\": {\"backgroundcolor\": \"#E5ECF6\", \"gridcolor\": \"white\", \"gridwidth\": 2, \"linecolor\": \"white\", \"showbackground\": true, \"ticks\": \"\", \"zerolinecolor\": \"white\"}}, \"shapedefaults\": {\"line\": {\"color\": \"#2a3f5f\"}}, \"ternary\": {\"aaxis\": {\"gridcolor\": \"white\", \"linecolor\": \"white\", \"ticks\": \"\"}, \"baxis\": {\"gridcolor\": \"white\", \"linecolor\": \"white\", \"ticks\": \"\"}, \"bgcolor\": \"#E5ECF6\", \"caxis\": {\"gridcolor\": \"white\", \"linecolor\": \"white\", \"ticks\": \"\"}}, \"title\": {\"x\": 0.05}, \"xaxis\": {\"automargin\": true, \"gridcolor\": \"white\", \"linecolor\": \"white\", \"ticks\": \"\", \"title\": {\"standoff\": 15}, \"zerolinecolor\": \"white\", \"zerolinewidth\": 2}, \"yaxis\": {\"automargin\": true, \"gridcolor\": \"white\", \"linecolor\": \"white\", \"ticks\": \"\", \"title\": {\"standoff\": 15}, \"zerolinecolor\": \"white\", \"zerolinewidth\": 2}}}, \"title\": {\"text\": \"Genre\"}},                        {\"responsive\": true}                    ).then(function(){\n",
       "                            \n",
       "var gd = document.getElementById('209c3388-6405-49b9-9007-b550d6d7dd8a');\n",
       "var x = new MutationObserver(function (mutations, observer) {{\n",
       "        var display = window.getComputedStyle(gd).display;\n",
       "        if (!display || display === 'none') {{\n",
       "            console.log([gd, 'removed!']);\n",
       "            Plotly.purge(gd);\n",
       "            observer.disconnect();\n",
       "        }}\n",
       "}});\n",
       "\n",
       "// Listen for the removal of the full notebook cells\n",
       "var notebookContainer = gd.closest('#notebook-container');\n",
       "if (notebookContainer) {{\n",
       "    x.observe(notebookContainer, {childList: true});\n",
       "}}\n",
       "\n",
       "// Listen for the clearing of the current output cell\n",
       "var outputEl = gd.closest('.output');\n",
       "if (outputEl) {{\n",
       "    x.observe(outputEl, {childList: true});\n",
       "}}\n",
       "\n",
       "                        })                };                });            </script>        </div>"
      ]
     },
     "metadata": {},
     "output_type": "display_data"
    }
   ],
   "source": [
    "#Genre wise classification\n",
    "pie_df = df.Genre.value_counts().reset_index()\n",
    "pie_df.columns = ['Genre', 'count']\n",
    "fig = px.pie(pie_df, values='count', names='Genre', title='Genre',\n",
    "             color_discrete_sequence=['blue', 'light green'])\n",
    "fig.show()"
   ]
  },
  {
   "cell_type": "code",
   "execution_count": 16,
   "metadata": {
    "execution": {
     "iopub.execute_input": "2021-01-17T13:25:59.484664Z",
     "iopub.status.busy": "2021-01-17T13:25:59.479754Z",
     "iopub.status.idle": "2021-01-17T13:25:59.630850Z",
     "shell.execute_reply": "2021-01-17T13:25:59.630082Z"
    },
    "papermill": {
     "duration": 0.185103,
     "end_time": "2021-01-17T13:25:59.630979",
     "exception": false,
     "start_time": "2021-01-17T13:25:59.445876",
     "status": "completed"
    },
    "tags": []
   },
   "outputs": [
    {
     "data": {
      "image/png": "[encoded data removed]",
      "text/plain": [
       "<Figure size 432x288 with 1 Axes>"
      ]
     },
     "metadata": {
      "needs_background": "light"
     },
     "output_type": "display_data"
    }
   ],
   "source": [
    "#variations wrt year \n",
    "sns.countplot('Year', data=df)\n",
    "plt.show()"
   ]
  },
  {
   "cell_type": "code",
   "execution_count": 17,
   "metadata": {
    "execution": {
     "iopub.execute_input": "2021-01-17T13:25:59.692632Z",
     "iopub.status.busy": "2021-01-17T13:25:59.691982Z",
     "iopub.status.idle": "2021-01-17T13:25:59.695581Z",
     "shell.execute_reply": "2021-01-17T13:25:59.695023Z"
    },
    "papermill": {
     "duration": 0.035997,
     "end_time": "2021-01-17T13:25:59.695716",
     "exception": false,
     "start_time": "2021-01-17T13:25:59.659719",
     "status": "completed"
    },
    "tags": []
   },
   "outputs": [],
   "source": [
    "#import seaborn as sns\n",
    "#sns.set_theme(style=\"darkgrid\")\n",
    "#p = sns.load_dataset(\"df\")\n",
    "#ax = sns.countplot(x=\"Price\", data=p)"
   ]
  },
  {
   "cell_type": "code",
   "execution_count": 18,
   "metadata": {
    "execution": {
     "iopub.execute_input": "2021-01-17T13:25:59.772907Z",
     "iopub.status.busy": "2021-01-17T13:25:59.763275Z",
     "iopub.status.idle": "2021-01-17T13:25:59.977226Z",
     "shell.execute_reply": "2021-01-17T13:25:59.976588Z"
    },
    "papermill": {
     "duration": 0.253861,
     "end_time": "2021-01-17T13:25:59.977346",
     "exception": false,
     "start_time": "2021-01-17T13:25:59.723485",
     "status": "completed"
    },
    "tags": []
   },
   "outputs": [
    {
     "data": {
      "text/plain": [
       "<matplotlib.axes._subplots.AxesSubplot at 0x7fbaa77aca90>"
      ]
     },
     "execution_count": 18,
     "metadata": {},
     "output_type": "execute_result"
    },
    {
     "data": {
      "image/png": "[encoded data removed]",
      "text/plain": [
       "<Figure size 432x288 with 1 Axes>"
      ]
     },
     "metadata": {
      "needs_background": "light"
     },
     "output_type": "display_data"
    }
   ],
   "source": [
    "#how much it costs?\n",
    "sns.distplot(df[\"Price\"])"
   ]
  },
  {
   "cell_type": "code",
   "execution_count": 19,
   "metadata": {
    "execution": {
     "iopub.execute_input": "2021-01-17T13:26:00.044999Z",
     "iopub.status.busy": "2021-01-17T13:26:00.040986Z",
     "iopub.status.idle": "2021-01-17T13:26:00.241881Z",
     "shell.execute_reply": "2021-01-17T13:26:00.241302Z"
    },
    "papermill": {
     "duration": 0.235781,
     "end_time": "2021-01-17T13:26:00.241996",
     "exception": false,
     "start_time": "2021-01-17T13:26:00.006215",
     "status": "completed"
    },
    "tags": []
   },
   "outputs": [
    {
     "data": {
      "text/plain": [
       "<matplotlib.axes._subplots.AxesSubplot at 0x7fbaa76c9bd0>"
      ]
     },
     "execution_count": 19,
     "metadata": {},
     "output_type": "execute_result"
    },
    {
     "data": {
      "image/png": "[encoded data removed]",
      "text/plain": [
       "<Figure size 432x288 with 1 Axes>"
      ]
     },
     "metadata": {
      "needs_background": "light"
     },
     "output_type": "display_data"
    }
   ],
   "source": [
    "#What are people's reviews\n",
    "sns.distplot(df[\"Reviews\"])"
   ]
  },
  {
   "cell_type": "code",
   "execution_count": 20,
   "metadata": {
    "execution": {
     "iopub.execute_input": "2021-01-17T13:26:00.312362Z",
     "iopub.status.busy": "2021-01-17T13:26:00.311363Z",
     "iopub.status.idle": "2021-01-17T13:26:00.493539Z",
     "shell.execute_reply": "2021-01-17T13:26:00.492864Z"
    },
    "papermill": {
     "duration": 0.22162,
     "end_time": "2021-01-17T13:26:00.493663",
     "exception": false,
     "start_time": "2021-01-17T13:26:00.272043",
     "status": "completed"
    },
    "tags": []
   },
   "outputs": [
    {
     "data": {
      "text/plain": [
       "<matplotlib.axes._subplots.AxesSubplot at 0x7fbaa75fde50>"
      ]
     },
     "execution_count": 20,
     "metadata": {},
     "output_type": "execute_result"
    },
    {
     "data": {
      "image/png": "[encoded data removed]",
      "text/plain": [
       "<Figure size 432x288 with 1 Axes>"
      ]
     },
     "metadata": {
      "needs_background": "light"
     },
     "output_type": "display_data"
    }
   ],
   "source": [
    "#How people rate the book\n",
    "sns.distplot(df[\"User Rating\"])"
   ]
  },
  {
   "cell_type": "code",
   "execution_count": 21,
   "metadata": {
    "execution": {
     "iopub.execute_input": "2021-01-17T13:26:00.564214Z",
     "iopub.status.busy": "2021-01-17T13:26:00.563531Z",
     "iopub.status.idle": "2021-01-17T13:26:00.776929Z",
     "shell.execute_reply": "2021-01-17T13:26:00.777737Z"
    },
    "papermill": {
     "duration": 0.253335,
     "end_time": "2021-01-17T13:26:00.777947",
     "exception": false,
     "start_time": "2021-01-17T13:26:00.524612",
     "status": "completed"
    },
    "tags": []
   },
   "outputs": [
    {
     "data": {
      "image/png": "[encoded data removed]",
      "text/plain": [
       "<Figure size 576x360 with 1 Axes>"
      ]
     },
     "metadata": {
      "needs_background": "light"
     },
     "output_type": "display_data"
    }
   ],
   "source": [
    "df_new1 = df.drop_duplicates(subset=['Name'])\n",
    "\n",
    "highest_reviews = df_new1[['Name','Reviews']].groupby('Name').sum().sort_values('Reviews', ascending=False)\n",
    "\n",
    "highest_reviews.iloc[:10].plot(kind='barh', color=['skyblue', 'blue'])\n",
    "plt.gcf().set_size_inches(8, 5)\n",
    "plt.title('10 Books with the Most Reviews')\n",
    "plt.gca().invert_yaxis()\n",
    "plt.xlabel('Number of Reviews')\n",
    "_ = plt.ylabel('Book')"
   ]
  },
  {
   "cell_type": "code",
   "execution_count": 22,
   "metadata": {
    "execution": {
     "iopub.execute_input": "2021-01-17T13:26:00.852573Z",
     "iopub.status.busy": "2021-01-17T13:26:00.851988Z",
     "iopub.status.idle": "2021-01-17T13:26:01.080540Z",
     "shell.execute_reply": "2021-01-17T13:26:01.081001Z"
    },
    "papermill": {
     "duration": 0.269032,
     "end_time": "2021-01-17T13:26:01.081152",
     "exception": false,
     "start_time": "2021-01-17T13:26:00.812120",
     "status": "completed"
    },
    "tags": []
   },
   "outputs": [
    {
     "data": {
      "image/png": "[encoded data removed]",
      "text/plain": [
       "<Figure size 576x360 with 1 Axes>"
      ]
     },
     "metadata": {
      "needs_background": "light"
     },
     "output_type": "display_data"
    }
   ],
   "source": [
    "df_new1 = df.drop_duplicates(subset=['Name'])\n",
    "\n",
    "#books with the highest number of reviews\n",
    "highest_rating = df_new1[['Name','User Rating']].groupby('Name').sum().sort_values('User Rating', ascending=False)\n",
    "\n",
    "highest_rating.iloc[:10].plot(kind='barh',color=['skyblue', 'blue'])\n",
    "plt.gcf().set_size_inches(8,5)\n",
    "plt.title('First 10 Books with the Highest ratings')\n",
    "plt.gca().invert_yaxis()\n",
    "plt.xlabel('Ratings')\n",
    "_ = plt.ylabel('Book')"
   ]
  },
  {
   "cell_type": "code",
   "execution_count": 23,
   "metadata": {
    "execution": {
     "iopub.execute_input": "2021-01-17T13:26:01.157006Z",
     "iopub.status.busy": "2021-01-17T13:26:01.156372Z",
     "iopub.status.idle": "2021-01-17T13:26:01.327608Z",
     "shell.execute_reply": "2021-01-17T13:26:01.327103Z"
    },
    "papermill": {
     "duration": 0.21241,
     "end_time": "2021-01-17T13:26:01.327759",
     "exception": false,
     "start_time": "2021-01-17T13:26:01.115349",
     "status": "completed"
    },
    "tags": []
   },
   "outputs": [
    {
     "data": {
      "image/png": "[encoded data removed]",
      "text/plain": [
       "<Figure size 576x360 with 1 Axes>"
      ]
     },
     "metadata": {
      "needs_background": "light"
     },
     "output_type": "display_data"
    }
   ],
   "source": [
    "df_new2 = df.drop_duplicates(subset=['Author'])\n",
    "\n",
    "#authors with the highest number of reviews\n",
    "highest_rating_auth = df_new2[['Author','Reviews']].groupby('Author').sum().sort_values('Reviews', ascending=False)\n",
    "\n",
    "highest_rating_auth.iloc[:10].plot(kind='barh',color=['lightgreen', 'blue'])\n",
    "plt.gcf().set_size_inches(8,5)\n",
    "plt.title('First 10 Authors with the Highest reviews')\n",
    "plt.gca().invert_yaxis()\n",
    "plt.xlabel('Reviews')\n",
    "_ = plt.ylabel('Author Name')"
   ]
  },
  {
   "cell_type": "code",
   "execution_count": 24,
   "metadata": {
    "execution": {
     "iopub.execute_input": "2021-01-17T13:26:01.414210Z",
     "iopub.status.busy": "2021-01-17T13:26:01.411099Z",
     "iopub.status.idle": "2021-01-17T13:26:01.589048Z",
     "shell.execute_reply": "2021-01-17T13:26:01.588457Z"
    },
    "papermill": {
     "duration": 0.226328,
     "end_time": "2021-01-17T13:26:01.589163",
     "exception": false,
     "start_time": "2021-01-17T13:26:01.362835",
     "status": "completed"
    },
    "tags": []
   },
   "outputs": [
    {
     "data": {
      "image/png": "[encoded data removed]",
      "text/plain": [
       "<Figure size 576x360 with 1 Axes>"
      ]
     },
     "metadata": {
      "needs_background": "light"
     },
     "output_type": "display_data"
    }
   ],
   "source": [
    "df_new = df.drop_duplicates(subset=['Author'])\n",
    "\n",
    "#authors with the highest number of reviews\n",
    "highest_rating_auth = df_new[['Author','User Rating']].groupby('Author').sum().sort_values('User Rating', ascending=False)\n",
    "\n",
    "highest_rating_auth.iloc[:10].plot(kind='barh',color=['lightgreen', 'blue'])\n",
    "plt.gcf().set_size_inches(8,5)\n",
    "plt.title('First 10 Authors with the Highest rating books')\n",
    "plt.gca().invert_yaxis()\n",
    "plt.xlabel('User Rating')\n",
    "_ = plt.ylabel('Author Name')"
   ]
  },
  {
   "cell_type": "markdown",
   "metadata": {
    "papermill": {
     "duration": 0.036634,
     "end_time": "2021-01-17T13:26:01.661380",
     "exception": false,
     "start_time": "2021-01-17T13:26:01.624746",
     "status": "completed"
    },
    "tags": []
   },
   "source": [
    "# **5. Data Modelling **"
   ]
  },
  {
   "cell_type": "code",
   "execution_count": 25,
   "metadata": {
    "execution": {
     "iopub.execute_input": "2021-01-17T13:26:01.741452Z",
     "iopub.status.busy": "2021-01-17T13:26:01.739484Z",
     "iopub.status.idle": "2021-01-17T13:26:01.744721Z",
     "shell.execute_reply": "2021-01-17T13:26:01.745182Z"
    },
    "papermill": {
     "duration": 0.047595,
     "end_time": "2021-01-17T13:26:01.745352",
     "exception": false,
     "start_time": "2021-01-17T13:26:01.697757",
     "status": "completed"
    },
    "tags": []
   },
   "outputs": [],
   "source": [
    "#Dependent variables\n",
    "X = np.array(df4[['Name', 'Author', 'Reviews', 'Price', 'Year', 'Genre']]) \n",
    "\n",
    "#Independent variables\n",
    "y = np.array(df4[\"User Rating\"])  "
   ]
  },
  {
   "cell_type": "code",
   "execution_count": 26,
   "metadata": {
    "execution": {
     "iopub.execute_input": "2021-01-17T13:26:01.823391Z",
     "iopub.status.busy": "2021-01-17T13:26:01.822736Z",
     "iopub.status.idle": "2021-01-17T13:26:01.826676Z",
     "shell.execute_reply": "2021-01-17T13:26:01.827157Z"
    },
    "papermill": {
     "duration": 0.04612,
     "end_time": "2021-01-17T13:26:01.827410",
     "exception": false,
     "start_time": "2021-01-17T13:26:01.781290",
     "status": "completed"
    },
    "tags": []
   },
   "outputs": [
    {
     "data": {
      "text/plain": [
       "array([[    0,   114, 17350,     8,  2016,     1],\n",
       "       [    1,   219,  2052,    22,  2011,     0],\n",
       "       [    2,   134, 18979,    15,  2018,     1],\n",
       "       ...,\n",
       "       [  350,   121, 14331,     8,  2017,     1],\n",
       "       [  350,   121, 14331,     8,  2018,     1],\n",
       "       [  350,   121, 14331,     8,  2019,     1]])"
      ]
     },
     "execution_count": 26,
     "metadata": {},
     "output_type": "execute_result"
    }
   ],
   "source": [
    "X"
   ]
  },
  {
   "cell_type": "code",
   "execution_count": 27,
   "metadata": {
    "execution": {
     "iopub.execute_input": "2021-01-17T13:26:01.905168Z",
     "iopub.status.busy": "2021-01-17T13:26:01.904497Z",
     "iopub.status.idle": "2021-01-17T13:26:01.911518Z",
     "shell.execute_reply": "2021-01-17T13:26:01.910976Z"
    },
    "papermill": {
     "duration": 0.04704,
     "end_time": "2021-01-17T13:26:01.911635",
     "exception": false,
     "start_time": "2021-01-17T13:26:01.864595",
     "status": "completed"
    },
    "tags": []
   },
   "outputs": [
    {
     "data": {
      "text/plain": [
       "array([11, 10, 11, 11, 12,  8, 11, 11, 11, 10, 10, 10, 10,  9, 10,  9, 10,\n",
       "        8,  9, 12, 10, 10,  3, 10,  7, 10, 11,  6, 10, 10, 12, 11, 12, 12,\n",
       "       12, 11, 11, 11, 10,  9, 13, 13, 12, 10, 12,  9, 11, 11, 11, 11, 11,\n",
       "       11, 11,  7, 12, 12, 10, 10, 12,  8, 10,  7,  6, 12, 12, 12, 12, 10,\n",
       "       10,  9,  9, 12, 12, 12, 10, 10, 10,  9, 10, 11, 12, 13, 13, 13, 13,\n",
       "       13, 13, 13, 12, 10,  9,  9,  7,  9,  9, 11, 11, 11, 11, 11, 10, 10,\n",
       "       11,  8,  8,  9,  2,  2,  9,  6, 11, 11, 11, 11, 11,  8, 11,  8, 10,\n",
       "       10, 10,  9, 10, 12, 12, 12, 12, 12, 10, 10, 10, 10,  1, 12, 10,  4,\n",
       "        4,  4, 10,  9,  9,  9,  9, 12, 12, 12, 13, 13, 10,  8, 12, 13, 12,\n",
       "       13,  4, 13, 13, 13, 11, 12, 12, 11, 11,  8,  8, 12, 11, 11, 11, 11,\n",
       "       11,  7, 12, 12, 13, 11, 12, 10, 12, 12,  7,  8,  5, 10,  8,  8, 12,\n",
       "       13, 13, 13, 13, 13, 13, 10,  9, 10,  9, 10, 11, 11, 10, 10, 12, 12,\n",
       "        9,  9,  9, 13, 10, 10, 10, 10, 10,  9,  9,  8, 12,  9,  5, 13,  9,\n",
       "        9,  6, 12, 12, 12,  9, 11, 12, 11, 11, 11,  8, 10, 10, 10,  9,  9,\n",
       "        9, 12, 12, 10, 11, 10, 13, 13, 13, 13, 13, 13, 13, 13, 13, 12,  6,\n",
       "       10, 10,  9,  7, 10, 10, 10, 11, 11, 12, 12, 12, 12, 11,  7,  7,  9,\n",
       "        9,  9,  9,  9,  9,  9,  9,  9,  9, 12, 10, 10, 11, 11, 10, 10, 13,\n",
       "       13, 12, 12, 10, 12, 12, 11, 11, 12,  5, 11, 10, 10, 10, 13,  4,  4,\n",
       "        4,  4,  4,  4,  4,  4,  4,  9, 10,  9,  8,  8,  7,  7, 11, 11, 11,\n",
       "       11, 11, 12, 12, 12, 12, 12, 12, 10, 10, 10, 10, 11, 11, 11, 11, 10,\n",
       "       11, 11, 11, 12,  6, 12, 11, 10, 10, 12, 12, 12, 12,  0, 11,  7,  7,\n",
       "        7, 12,  8, 12, 12, 12,  5,  4, 11, 11, 11, 11, 10, 10, 10, 10, 10,\n",
       "       10, 11, 11, 11, 11, 11, 11, 12,  5,  5, 11, 11, 11, 11,  8,  8, 12,\n",
       "       12,  3,  3,  8,  8,  8,  9, 11,  7, 10, 12, 12, 12, 12, 12, 12, 11,\n",
       "       11, 11, 12, 12, 11, 11, 11,  7,  7, 11, 12, 12, 13,  8,  8,  9,  9,\n",
       "        9,  9,  8, 12,  6, 12, 13, 12, 11,  9, 12, 10, 12, 12,  8,  8,  8,\n",
       "        8,  8,  7,  7, 12, 12, 12,  9,  8, 12, 12, 10,  7,  7, 10, 10, 12,\n",
       "       10, 10, 10,  9, 12, 10, 10, 10, 11, 11, 11,  8,  8, 11, 11, 12, 11,\n",
       "       13, 13, 13, 13, 13, 13, 13, 10, 10, 10, 13, 13, 13, 13, 12, 12, 11,\n",
       "       11, 10, 10,  9,  9,  7,  7, 10, 10, 10, 10,  7, 12, 12, 12, 12, 12,\n",
       "       10, 12,  9, 11,  9, 12, 12, 12, 12, 12,  7, 13, 12, 11, 12,  9, 10,\n",
       "       11, 11, 12,  8,  8,  8, 12, 12, 12, 10,  8,  9,  6, 12, 12, 12, 12,\n",
       "       12, 13, 11, 11, 11, 11])"
      ]
     },
     "execution_count": 27,
     "metadata": {},
     "output_type": "execute_result"
    }
   ],
   "source": [
    "y"
   ]
  },
  {
   "cell_type": "code",
   "execution_count": 28,
   "metadata": {
    "execution": {
     "iopub.execute_input": "2021-01-17T13:26:01.993300Z",
     "iopub.status.busy": "2021-01-17T13:26:01.992613Z",
     "iopub.status.idle": "2021-01-17T13:26:01.995773Z",
     "shell.execute_reply": "2021-01-17T13:26:01.995104Z"
    },
    "papermill": {
     "duration": 0.045606,
     "end_time": "2021-01-17T13:26:01.995894",
     "exception": false,
     "start_time": "2021-01-17T13:26:01.950288",
     "status": "completed"
    },
    "tags": []
   },
   "outputs": [],
   "source": [
    "X_train, X_test, y_train, y_test = train_test_split(X, y, test_size=0.30, random_state = 100)                                    "
   ]
  },
  {
   "cell_type": "markdown",
   "metadata": {
    "papermill": {
     "duration": 0.036903,
     "end_time": "2021-01-17T13:26:02.070666",
     "exception": false,
     "start_time": "2021-01-17T13:26:02.033763",
     "status": "completed"
    },
    "tags": []
   },
   "source": [
    "**Regression Model**"
   ]
  },
  {
   "cell_type": "code",
   "execution_count": 29,
   "metadata": {
    "execution": {
     "iopub.execute_input": "2021-01-17T13:26:02.199165Z",
     "iopub.status.busy": "2021-01-17T13:26:02.198234Z",
     "iopub.status.idle": "2021-01-17T13:26:02.200259Z",
     "shell.execute_reply": "2021-01-17T13:26:02.199793Z"
    },
    "papermill": {
     "duration": 0.093402,
     "end_time": "2021-01-17T13:26:02.200367",
     "exception": false,
     "start_time": "2021-01-17T13:26:02.106965",
     "status": "completed"
    },
    "tags": []
   },
   "outputs": [],
   "source": [
    "#Linear Regression\n",
    "from sklearn import linear_model\n",
    "reg = linear_model.LinearRegression()\n",
    "\n",
    "reg.fit(X_train, y_train)\n",
    "y_1 = reg.predict(X_test)"
   ]
  },
  {
   "cell_type": "code",
   "execution_count": 30,
   "metadata": {
    "execution": {
     "iopub.execute_input": "2021-01-17T13:26:02.277299Z",
     "iopub.status.busy": "2021-01-17T13:26:02.276356Z",
     "iopub.status.idle": "2021-01-17T13:26:02.283451Z",
     "shell.execute_reply": "2021-01-17T13:26:02.283958Z"
    },
    "papermill": {
     "duration": 0.047053,
     "end_time": "2021-01-17T13:26:02.284103",
     "exception": false,
     "start_time": "2021-01-17T13:26:02.237050",
     "status": "completed"
    },
    "tags": []
   },
   "outputs": [
    {
     "data": {
      "text/plain": [
       "array([10.6156883 ,  9.60098311, 10.56921083, 11.75536543,  9.30731912,\n",
       "       10.56307748, 10.48620177,  9.96472939, 10.9471195 ,  8.89127606,\n",
       "       11.40638493, 10.34050677,  9.87446431, 10.26927259, 11.07330377,\n",
       "       10.19255385,  9.53242157, 10.58452977, 11.03803909, 11.57485222,\n",
       "       10.78301921, 10.9717463 , 11.15279501, 10.06858971, 10.93964777,\n",
       "        9.76863961, 10.31010544, 10.41708249, 10.00612285,  8.8755808 ,\n",
       "        9.29078435, 10.42434809,  9.32444389, 10.42827657, 10.23644029,\n",
       "       10.96138784, 10.05272377,  9.10639652,  9.41704253,  8.98827242,\n",
       "        9.77122029, 10.87871394,  9.06173504,  9.13393343,  8.71253223,\n",
       "       11.03432118,  9.02981071,  9.19085224, 10.1102674 , 11.42430398,\n",
       "        9.94332332,  9.71818796,  9.44797041, 11.28201894, 11.19348826,\n",
       "       10.62593693,  8.32506731, 10.49020271, 10.71775434,  9.89808618,\n",
       "        8.91596082,  9.60501455,  9.00704075,  9.52257597,  9.66633633,\n",
       "        9.04176492, 10.698186  , 11.78502405,  9.29231567,  9.56138302,\n",
       "        9.66096979, 10.18626676, 10.3383951 , 11.41559187, 10.3951212 ,\n",
       "       10.24557728,  9.2717617 , 10.1117633 , 10.71688831,  9.72229881,\n",
       "       10.06859457, 10.04227287,  9.98923107,  9.55505935,  9.61131164,\n",
       "       10.84855207,  9.79375459, 10.73185681, 10.80350546,  8.73451184,\n",
       "        9.5422805 , 11.28839096,  8.93946011, 10.76012555,  9.70596052,\n",
       "        9.56886469,  9.78484424,  9.07684127,  8.10247788, 10.28550995,\n",
       "       10.57339475,  8.8011102 ,  8.79162143,  8.94334795, 10.01689107,\n",
       "        9.97894163, 10.06399082, 10.15565401,  7.96273   , 11.48659583,\n",
       "        9.35362255,  8.95089654,  8.98016945,  9.05996862, 10.79270837,\n",
       "       11.53493522,  8.86701613,  9.47149935, 11.34034539,  8.55432505,\n",
       "       10.25628794, 10.58882676,  9.78607534, 10.64979581,  9.11137343,\n",
       "        9.6229996 , 10.54576493,  9.24833021, 10.0158776 ,  9.02243715,\n",
       "        8.98633896,  8.79492506,  9.6639335 ,  9.55525961,  9.63916447,\n",
       "        9.85942964, 10.33338502, 10.01394059, 10.97043356, 11.32748541,\n",
       "       10.74296636, 10.79501647,  8.78669876, 10.05319713, 10.29280779,\n",
       "       10.7966921 , 10.25538605,  9.2731286 ,  9.64785826,  9.85972391,\n",
       "       10.49912157, 10.030383  , 10.78445019, 10.33004712, 11.14827076,\n",
       "       10.97830601, 10.9016791 , 10.16687072,  9.77924381,  9.14509133,\n",
       "       10.37464162,  9.44897475,  8.90903485, 11.56884682, 10.63961297])"
      ]
     },
     "execution_count": 30,
     "metadata": {},
     "output_type": "execute_result"
    }
   ],
   "source": [
    "y_1"
   ]
  },
  {
   "cell_type": "code",
   "execution_count": 31,
   "metadata": {
    "execution": {
     "iopub.execute_input": "2021-01-17T13:26:02.363935Z",
     "iopub.status.busy": "2021-01-17T13:26:02.362915Z",
     "iopub.status.idle": "2021-01-17T13:26:02.369564Z",
     "shell.execute_reply": "2021-01-17T13:26:02.370178Z"
    },
    "papermill": {
     "duration": 0.048523,
     "end_time": "2021-01-17T13:26:02.370375",
     "exception": false,
     "start_time": "2021-01-17T13:26:02.321852",
     "status": "completed"
    },
    "tags": []
   },
   "outputs": [
    {
     "name": "stdout",
     "output_type": "stream",
     "text": [
      "MAE: 1.666678590798705\n"
     ]
    }
   ],
   "source": [
    "print(\"MAE: \" + str(mean_absolute_error(y_test, y_1)))"
   ]
  },
  {
   "cell_type": "code",
   "execution_count": 32,
   "metadata": {
    "execution": {
     "iopub.execute_input": "2021-01-17T13:26:02.450174Z",
     "iopub.status.busy": "2021-01-17T13:26:02.449485Z",
     "iopub.status.idle": "2021-01-17T13:26:02.455207Z",
     "shell.execute_reply": "2021-01-17T13:26:02.455866Z"
    },
    "papermill": {
     "duration": 0.047192,
     "end_time": "2021-01-17T13:26:02.456007",
     "exception": false,
     "start_time": "2021-01-17T13:26:02.408815",
     "status": "completed"
    },
    "tags": []
   },
   "outputs": [
    {
     "name": "stdout",
     "output_type": "stream",
     "text": [
      "R2_score: -0.009373168157821965\n"
     ]
    }
   ],
   "source": [
    "print(\"R2_score: \" + str(r2_score(y_test, y_1)))"
   ]
  },
  {
   "cell_type": "markdown",
   "metadata": {
    "papermill": {
     "duration": 0.038796,
     "end_time": "2021-01-17T13:26:02.532219",
     "exception": false,
     "start_time": "2021-01-17T13:26:02.493423",
     "status": "completed"
    },
    "tags": []
   },
   "source": [
    "**Decision Tree : To predict Genre**"
   ]
  },
  {
   "cell_type": "code",
   "execution_count": 33,
   "metadata": {
    "execution": {
     "iopub.execute_input": "2021-01-17T13:26:02.616427Z",
     "iopub.status.busy": "2021-01-17T13:26:02.615683Z",
     "iopub.status.idle": "2021-01-17T13:26:02.624025Z",
     "shell.execute_reply": "2021-01-17T13:26:02.623325Z"
    },
    "papermill": {
     "duration": 0.053381,
     "end_time": "2021-01-17T13:26:02.624147",
     "exception": false,
     "start_time": "2021-01-17T13:26:02.570766",
     "status": "completed"
    },
    "tags": []
   },
   "outputs": [],
   "source": [
    "X1 = np.array(df4[['Name', 'Author','Reviews', 'Price', 'Year', 'User Rating']])\n",
    "y1 = np.array(df4[['Genre']])\n",
    "from sklearn import tree\n",
    "\n",
    "tree1 = tree.DecisionTreeClassifier(max_depth=4)\n",
    "tree1 = tree1.fit(X1, y1)"
   ]
  },
  {
   "cell_type": "code",
   "execution_count": 34,
   "metadata": {
    "execution": {
     "iopub.execute_input": "2021-01-17T13:26:02.707622Z",
     "iopub.status.busy": "2021-01-17T13:26:02.706728Z",
     "iopub.status.idle": "2021-01-17T13:26:02.711528Z",
     "shell.execute_reply": "2021-01-17T13:26:02.711038Z"
    },
    "papermill": {
     "duration": 0.048178,
     "end_time": "2021-01-17T13:26:02.711656",
     "exception": false,
     "start_time": "2021-01-17T13:26:02.663478",
     "status": "completed"
    },
    "tags": []
   },
   "outputs": [],
   "source": [
    "X1_train, X1_test, y1_train, y1_test = train_test_split(X1, y1, test_size=0.30, random_state = 1)                                    "
   ]
  },
  {
   "cell_type": "code",
   "execution_count": 35,
   "metadata": {
    "execution": {
     "iopub.execute_input": "2021-01-17T13:26:02.794287Z",
     "iopub.status.busy": "2021-01-17T13:26:02.793565Z",
     "iopub.status.idle": "2021-01-17T13:26:02.798946Z",
     "shell.execute_reply": "2021-01-17T13:26:02.798355Z"
    },
    "papermill": {
     "duration": 0.048792,
     "end_time": "2021-01-17T13:26:02.799054",
     "exception": false,
     "start_time": "2021-01-17T13:26:02.750262",
     "status": "completed"
    },
    "tags": []
   },
   "outputs": [
    {
     "data": {
      "text/plain": [
       "0.7963636363636364"
      ]
     },
     "execution_count": 35,
     "metadata": {},
     "output_type": "execute_result"
    }
   ],
   "source": [
    "tree1.score(X1, y1)"
   ]
  },
  {
   "cell_type": "code",
   "execution_count": 36,
   "metadata": {
    "execution": {
     "iopub.execute_input": "2021-01-17T13:26:02.882735Z",
     "iopub.status.busy": "2021-01-17T13:26:02.881191Z",
     "iopub.status.idle": "2021-01-17T13:26:02.886872Z",
     "shell.execute_reply": "2021-01-17T13:26:02.887276Z"
    },
    "papermill": {
     "duration": 0.049311,
     "end_time": "2021-01-17T13:26:02.887428",
     "exception": false,
     "start_time": "2021-01-17T13:26:02.838117",
     "status": "completed"
    },
    "tags": []
   },
   "outputs": [
    {
     "data": {
      "text/plain": [
       "array([1, 1, 0, 1, 0, 1, 1, 1, 1, 1, 0, 1, 1, 1, 1, 1, 0, 1, 1, 1, 0, 1,\n",
       "       1, 0, 1, 1, 1, 1, 1, 0, 1, 0, 1, 1, 1, 1, 0, 1, 1, 0, 1, 1, 1, 1,\n",
       "       0, 1, 0, 0, 1, 1, 0, 1, 1, 1, 1, 1, 0, 1, 1, 1, 0, 1, 1, 0, 1, 1,\n",
       "       1, 0, 1, 1, 0, 0, 1, 1, 1, 1, 0, 1, 0, 0, 1, 0, 0, 1, 1, 0, 0, 0,\n",
       "       1, 0, 1, 1, 1, 1, 1, 1, 1, 1, 1, 0, 1, 1, 0, 1, 1, 1, 0, 1, 0, 0,\n",
       "       1, 1, 0, 1, 1, 1, 0, 1, 1, 1, 1, 0, 0, 1, 1, 1, 0, 1, 0, 1, 1, 1,\n",
       "       1, 1, 1, 1, 1, 1, 1, 1, 1, 1, 1, 1, 1, 0, 1, 1, 1, 1, 1, 0, 1, 1,\n",
       "       0, 1, 0, 0, 1, 0, 1, 1, 1, 1, 0])"
      ]
     },
     "execution_count": 36,
     "metadata": {},
     "output_type": "execute_result"
    }
   ],
   "source": [
    "y1_predicted = tree1.predict(X1_test)\n",
    "y1_predicted"
   ]
  },
  {
   "cell_type": "markdown",
   "metadata": {
    "papermill": {
     "duration": 0.03875,
     "end_time": "2021-01-17T13:26:02.965802",
     "exception": false,
     "start_time": "2021-01-17T13:26:02.927052",
     "status": "completed"
    },
    "tags": []
   },
   "source": [
    "**Decision Tree : To predict User Rating**"
   ]
  },
  {
   "cell_type": "code",
   "execution_count": 37,
   "metadata": {
    "execution": {
     "iopub.execute_input": "2021-01-17T13:26:03.054478Z",
     "iopub.status.busy": "2021-01-17T13:26:03.053516Z",
     "iopub.status.idle": "2021-01-17T13:26:03.059075Z",
     "shell.execute_reply": "2021-01-17T13:26:03.058518Z"
    },
    "papermill": {
     "duration": 0.054206,
     "end_time": "2021-01-17T13:26:03.059189",
     "exception": false,
     "start_time": "2021-01-17T13:26:03.004983",
     "status": "completed"
    },
    "tags": []
   },
   "outputs": [],
   "source": [
    "X2 = np.array(df4[['Name', 'Author','Reviews', 'Price', 'Year', 'Genre']])\n",
    "y2 = np.array(df4[['User Rating']])\n",
    "from sklearn import tree\n",
    "\n",
    "tree2 = tree.DecisionTreeClassifier(max_depth=4)\n",
    "tree2 = tree2.fit(X2, y2)"
   ]
  },
  {
   "cell_type": "code",
   "execution_count": 38,
   "metadata": {
    "execution": {
     "iopub.execute_input": "2021-01-17T13:26:03.143669Z",
     "iopub.status.busy": "2021-01-17T13:26:03.143081Z",
     "iopub.status.idle": "2021-01-17T13:26:03.147679Z",
     "shell.execute_reply": "2021-01-17T13:26:03.147077Z"
    },
    "papermill": {
     "duration": 0.048428,
     "end_time": "2021-01-17T13:26:03.147805",
     "exception": false,
     "start_time": "2021-01-17T13:26:03.099377",
     "status": "completed"
    },
    "tags": []
   },
   "outputs": [],
   "source": [
    "X2_train, X2_test, y2_train, y2_test = train_test_split(X2, y2, test_size=0.30, random_state = 100)                                    "
   ]
  },
  {
   "cell_type": "code",
   "execution_count": 39,
   "metadata": {
    "execution": {
     "iopub.execute_input": "2021-01-17T13:26:03.231859Z",
     "iopub.status.busy": "2021-01-17T13:26:03.230814Z",
     "iopub.status.idle": "2021-01-17T13:26:03.237001Z",
     "shell.execute_reply": "2021-01-17T13:26:03.236462Z"
    },
    "papermill": {
     "duration": 0.05013,
     "end_time": "2021-01-17T13:26:03.237112",
     "exception": false,
     "start_time": "2021-01-17T13:26:03.186982",
     "status": "completed"
    },
    "tags": []
   },
   "outputs": [
    {
     "data": {
      "text/plain": [
       "0.44"
      ]
     },
     "execution_count": 39,
     "metadata": {},
     "output_type": "execute_result"
    }
   ],
   "source": [
    "tree2.score(X2, y2)"
   ]
  },
  {
   "cell_type": "code",
   "execution_count": 40,
   "metadata": {
    "execution": {
     "iopub.execute_input": "2021-01-17T13:26:03.322767Z",
     "iopub.status.busy": "2021-01-17T13:26:03.322093Z",
     "iopub.status.idle": "2021-01-17T13:26:03.326968Z",
     "shell.execute_reply": "2021-01-17T13:26:03.326445Z"
    },
    "papermill": {
     "duration": 0.050075,
     "end_time": "2021-01-17T13:26:03.327085",
     "exception": false,
     "start_time": "2021-01-17T13:26:03.277010",
     "status": "completed"
    },
    "tags": []
   },
   "outputs": [
    {
     "data": {
      "text/plain": [
       "array([10, 11, 10, 12, 10, 11, 12, 12, 10, 10, 10, 10, 12, 10, 12, 12, 12,\n",
       "       12, 11, 12, 11,  9, 10, 12, 11, 12,  9, 13, 12, 10, 10, 10, 11, 12,\n",
       "       10, 10, 12, 10,  8, 10, 13, 13, 10, 10, 10, 12,  9, 11, 11, 13, 10,\n",
       "        9, 10, 10, 13, 12, 12, 11, 10, 11, 10, 11, 10, 12,  9, 10, 10, 13,\n",
       "       12, 10, 10, 13, 10, 12, 12, 10, 10, 10, 11, 10, 10, 11, 11, 10, 12,\n",
       "       10, 12, 13, 12, 10,  9, 12, 10, 12, 12, 11, 12, 10,  9, 11, 10, 10,\n",
       "       10, 10, 11, 10, 12, 10,  9, 12, 10, 10, 10, 10, 11, 12, 10, 11, 13,\n",
       "       10, 11, 10, 11, 10, 11, 12, 10, 12, 12, 10, 10,  9, 11, 11, 10, 10,\n",
       "       10, 11, 10, 11, 10, 10, 12, 10, 11, 12, 12, 10,  8, 10, 10, 11, 10,\n",
       "       10, 11, 11, 10, 10, 12, 10, 11, 10, 12, 11, 10])"
      ]
     },
     "execution_count": 40,
     "metadata": {},
     "output_type": "execute_result"
    }
   ],
   "source": [
    "y2_predicted = tree2.predict(X2_test)\n",
    "y2_predicted"
   ]
  },
  {
   "cell_type": "markdown",
   "metadata": {
    "papermill": {
     "duration": 0.03921,
     "end_time": "2021-01-17T13:26:03.405921",
     "exception": false,
     "start_time": "2021-01-17T13:26:03.366711",
     "status": "completed"
    },
    "tags": []
   },
   "source": [
    "# **Conclusion**\n",
    "\n",
    "1. Total unique Books : 351.\n",
    "2. Total unique Authors : 248.\n",
    "3. Average User Rating : 4.6.\n",
    "4. Average Price : 13.10.\n",
    "5. Min rating : 3.3 | Max rating : 4.9.\n",
    "6. Maximum books were in 2019 whereas minimum were in 2009.\n",
    "7. 56.4 % books are Non Fictional while 43.6 are fictional.\n",
    "8. Decision tree classifier works enough good for Genre prediction whereas it is not that accurate for User rating prediction.\n",
    "9. Linear Regression model works good in User Rating prediction."
   ]
  }
 ],
 "metadata": {
  "kernelspec": {
   "display_name": "Python 3",
   "language": "python",
   "name": "python3"
  },
  "language_info": {
   "codemirror_mode": {
    "name": "ipython",
    "version": 3
   },
   "file_extension": ".py",
   "mimetype": "text/x-python",
   "name": "python",
   "nbconvert_exporter": "python",
   "pygments_lexer": "ipython3",
   "version": "3.7.6"
  },
  "papermill": {
   "duration": 14.879093,
   "end_time": "2021-01-17T13:26:03.552531",
   "environment_variables": {},
   "exception": null,
   "input_path": "__notebook__.ipynb",
   "output_path": "__notebook__.ipynb",
   "parameters": {},
   "start_time": "2021-01-17T13:25:48.673438",
   "version": "2.1.0"
  }
 },
 "nbformat": 4,
 "nbformat_minor": 4
}
