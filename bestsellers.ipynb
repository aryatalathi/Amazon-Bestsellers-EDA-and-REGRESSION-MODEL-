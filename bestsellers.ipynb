{
 "cells": [
  {
   "cell_type": "code",
   "execution_count": 1,
   "metadata": {
    "_cell_guid": "b1076dfc-b9ad-4769-8c92-a6c4dae69d19",
    "_uuid": "8f2839f25d086af736a60e9eeb907d3b93b6e0e5",
    "execution": {
     "iopub.execute_input": "2021-01-13T16:39:54.768566Z",
     "iopub.status.busy": "2021-01-13T16:39:54.767675Z",
     "iopub.status.idle": "2021-01-13T16:39:54.778716Z",
     "shell.execute_reply": "2021-01-13T16:39:54.779380Z"
    },
    "papermill": {
     "duration": 0.042382,
     "end_time": "2021-01-13T16:39:54.779628",
     "exception": false,
     "start_time": "2021-01-13T16:39:54.737246",
     "status": "completed"
    },
    "tags": []
   },
   "outputs": [
    {
     "name": "stdout",
     "output_type": "stream",
     "text": [
      "/kaggle/input/amazon-top-50-bestselling-books-2009-2019/bestsellers with categories.csv\n"
     ]
    }
   ],
   "source": [
    "# This Python 3 environment comes with many helpful analytics libraries installed\n",
    "# It is defined by the kaggle/python Docker image: https://github.com/kaggle/docker-python\n",
    "# For example, here's several helpful packages to load\n",
    "\n",
    "import numpy as np # linear algebra\n",
    "import pandas as pd # data processing, CSV file I/O (e.g. pd.read_csv)\n",
    "\n",
    "# Input data files are available in the read-only \"../input/\" directory\n",
    "# For example, running this (by clicking run or pressing Shift+Enter) will list all files under the input directory\n",
    "\n",
    "import os\n",
    "for dirname, _, filenames in os.walk('/kaggle/input'):\n",
    "    for filename in filenames:\n",
    "        print(os.path.join(dirname, filename))\n",
    "\n",
    "# You can write up to 20GB to the current directory (/kaggle/working/) that gets preserved as output when you create a version using \"Save & Run All\" \n",
    "# You can also write temporary files to /kaggle/temp/, but they won't be saved outside of the current session"
   ]
  },
  {
   "cell_type": "code",
   "execution_count": 2,
   "metadata": {
    "_cell_guid": "79c7e3d0-c299-4dcb-8224-4455121ee9b0",
    "_uuid": "d629ff2d2480ee46fbb7e2d37f6b5fab8052498a",
    "execution": {
     "iopub.execute_input": "2021-01-13T16:39:54.856364Z",
     "iopub.status.busy": "2021-01-13T16:39:54.855627Z",
     "iopub.status.idle": "2021-01-13T16:39:57.297996Z",
     "shell.execute_reply": "2021-01-13T16:39:57.297289Z"
    },
    "papermill": {
     "duration": 2.484469,
     "end_time": "2021-01-13T16:39:57.298155",
     "exception": false,
     "start_time": "2021-01-13T16:39:54.813686",
     "status": "completed"
    },
    "tags": []
   },
   "outputs": [],
   "source": [
    "#Importing required libraries\n",
    "\n",
    "from sklearn.model_selection import train_test_split                \n",
    "from sklearn.tree import DecisionTreeClassifier                     \n",
    "from sklearn.metrics import accuracy_score                          \n",
    "from sklearn.metrics import classification_report                   \n",
    "from sklearn import tree    \n",
    "from sklearn.preprocessing import LabelEncoder\n",
    "from sklearn.neighbors import KNeighborsClassifier\n",
    "import seaborn as sns\n",
    "import matplotlib.pyplot as plt\n",
    "import plotly.express as px\n",
    "import math\n",
    "from sklearn.metrics import mean_absolute_error\n",
    "from sklearn.metrics import mean_squared_error\n",
    "from sklearn.metrics import r2_score\n",
    "from wordcloud import WordCloud , ImageColorGenerator\n",
    "from PIL import Image"
   ]
  },
  {
   "cell_type": "code",
   "execution_count": 3,
   "metadata": {
    "execution": {
     "iopub.execute_input": "2021-01-13T16:39:57.370833Z",
     "iopub.status.busy": "2021-01-13T16:39:57.370130Z",
     "iopub.status.idle": "2021-01-13T16:39:57.392858Z",
     "shell.execute_reply": "2021-01-13T16:39:57.392207Z"
    },
    "papermill": {
     "duration": 0.061796,
     "end_time": "2021-01-13T16:39:57.392967",
     "exception": false,
     "start_time": "2021-01-13T16:39:57.331171",
     "status": "completed"
    },
    "tags": []
   },
   "outputs": [],
   "source": [
    "#import data\n",
    "df = pd.read_csv('../input/amazon-top-50-bestselling-books-2009-2019/bestsellers with categories.csv')"
   ]
  },
  {
   "cell_type": "code",
   "execution_count": 4,
   "metadata": {
    "execution": {
     "iopub.execute_input": "2021-01-13T16:39:57.463614Z",
     "iopub.status.busy": "2021-01-13T16:39:57.462633Z",
     "iopub.status.idle": "2021-01-13T16:39:57.469046Z",
     "shell.execute_reply": "2021-01-13T16:39:57.468492Z"
    },
    "papermill": {
     "duration": 0.053253,
     "end_time": "2021-01-13T16:39:57.469194",
     "exception": false,
     "start_time": "2021-01-13T16:39:57.415941",
     "status": "completed"
    },
    "tags": []
   },
   "outputs": [
    {
     "name": "stdout",
     "output_type": "stream",
     "text": [
      "<class 'pandas.core.frame.DataFrame'>\n",
      "RangeIndex: 550 entries, 0 to 549\n",
      "Data columns (total 7 columns):\n",
      " #   Column       Non-Null Count  Dtype  \n",
      "---  ------       --------------  -----  \n",
      " 0   Name         550 non-null    object \n",
      " 1   Author       550 non-null    object \n",
      " 2   User Rating  550 non-null    float64\n",
      " 3   Reviews      550 non-null    int64  \n",
      " 4   Price        550 non-null    int64  \n",
      " 5   Year         550 non-null    int64  \n",
      " 6   Genre        550 non-null    object \n",
      "dtypes: float64(1), int64(3), object(3)\n",
      "memory usage: 30.2+ KB\n"
     ]
    }
   ],
   "source": [
    "#exploring data\n",
    "df.info()"
   ]
  },
  {
   "cell_type": "code",
   "execution_count": 5,
   "metadata": {
    "execution": {
     "iopub.execute_input": "2021-01-13T16:39:57.522818Z",
     "iopub.status.busy": "2021-01-13T16:39:57.518784Z",
     "iopub.status.idle": "2021-01-13T16:39:57.527946Z",
     "shell.execute_reply": "2021-01-13T16:39:57.527303Z"
    },
    "papermill": {
     "duration": 0.036515,
     "end_time": "2021-01-13T16:39:57.528055",
     "exception": false,
     "start_time": "2021-01-13T16:39:57.491540",
     "status": "completed"
    },
    "tags": []
   },
   "outputs": [
    {
     "data": {
      "text/plain": [
       "Name           0\n",
       "Author         0\n",
       "User Rating    0\n",
       "Reviews        0\n",
       "Price          0\n",
       "Year           0\n",
       "Genre          0\n",
       "dtype: int64"
      ]
     },
     "execution_count": 5,
     "metadata": {},
     "output_type": "execute_result"
    }
   ],
   "source": [
    "#check null values if any\n",
    "df.isnull().sum()"
   ]
  },
  {
   "cell_type": "code",
   "execution_count": 6,
   "metadata": {
    "execution": {
     "iopub.execute_input": "2021-01-13T16:39:57.587999Z",
     "iopub.status.busy": "2021-01-13T16:39:57.587057Z",
     "iopub.status.idle": "2021-01-13T16:39:57.612046Z",
     "shell.execute_reply": "2021-01-13T16:39:57.612602Z"
    },
    "papermill": {
     "duration": 0.061131,
     "end_time": "2021-01-13T16:39:57.612747",
     "exception": false,
     "start_time": "2021-01-13T16:39:57.551616",
     "status": "completed"
    },
    "tags": []
   },
   "outputs": [
    {
     "data": {
      "text/html": [
       "<div>\n",
       "<style scoped>\n",
       "    .dataframe tbody tr th:only-of-type {\n",
       "        vertical-align: middle;\n",
       "    }\n",
       "\n",
       "    .dataframe tbody tr th {\n",
       "        vertical-align: top;\n",
       "    }\n",
       "\n",
       "    .dataframe thead th {\n",
       "        text-align: right;\n",
       "    }\n",
       "</style>\n",
       "<table border=\"1\" class=\"dataframe\">\n",
       "  <thead>\n",
       "    <tr style=\"text-align: right;\">\n",
       "      <th></th>\n",
       "      <th>User Rating</th>\n",
       "      <th>Reviews</th>\n",
       "      <th>Price</th>\n",
       "      <th>Year</th>\n",
       "    </tr>\n",
       "  </thead>\n",
       "  <tbody>\n",
       "    <tr>\n",
       "      <th>count</th>\n",
       "      <td>550.000000</td>\n",
       "      <td>550.000000</td>\n",
       "      <td>550.000000</td>\n",
       "      <td>550.000000</td>\n",
       "    </tr>\n",
       "    <tr>\n",
       "      <th>mean</th>\n",
       "      <td>4.618364</td>\n",
       "      <td>11953.281818</td>\n",
       "      <td>13.100000</td>\n",
       "      <td>2014.000000</td>\n",
       "    </tr>\n",
       "    <tr>\n",
       "      <th>std</th>\n",
       "      <td>0.226980</td>\n",
       "      <td>11731.132017</td>\n",
       "      <td>10.842262</td>\n",
       "      <td>3.165156</td>\n",
       "    </tr>\n",
       "    <tr>\n",
       "      <th>min</th>\n",
       "      <td>3.300000</td>\n",
       "      <td>37.000000</td>\n",
       "      <td>0.000000</td>\n",
       "      <td>2009.000000</td>\n",
       "    </tr>\n",
       "    <tr>\n",
       "      <th>25%</th>\n",
       "      <td>4.500000</td>\n",
       "      <td>4058.000000</td>\n",
       "      <td>7.000000</td>\n",
       "      <td>2011.000000</td>\n",
       "    </tr>\n",
       "    <tr>\n",
       "      <th>50%</th>\n",
       "      <td>4.700000</td>\n",
       "      <td>8580.000000</td>\n",
       "      <td>11.000000</td>\n",
       "      <td>2014.000000</td>\n",
       "    </tr>\n",
       "    <tr>\n",
       "      <th>75%</th>\n",
       "      <td>4.800000</td>\n",
       "      <td>17253.250000</td>\n",
       "      <td>16.000000</td>\n",
       "      <td>2017.000000</td>\n",
       "    </tr>\n",
       "    <tr>\n",
       "      <th>max</th>\n",
       "      <td>4.900000</td>\n",
       "      <td>87841.000000</td>\n",
       "      <td>105.000000</td>\n",
       "      <td>2019.000000</td>\n",
       "    </tr>\n",
       "  </tbody>\n",
       "</table>\n",
       "</div>"
      ],
      "text/plain": [
       "       User Rating       Reviews       Price         Year\n",
       "count   550.000000    550.000000  550.000000   550.000000\n",
       "mean      4.618364  11953.281818   13.100000  2014.000000\n",
       "std       0.226980  11731.132017   10.842262     3.165156\n",
       "min       3.300000     37.000000    0.000000  2009.000000\n",
       "25%       4.500000   4058.000000    7.000000  2011.000000\n",
       "50%       4.700000   8580.000000   11.000000  2014.000000\n",
       "75%       4.800000  17253.250000   16.000000  2017.000000\n",
       "max       4.900000  87841.000000  105.000000  2019.000000"
      ]
     },
     "execution_count": 6,
     "metadata": {},
     "output_type": "execute_result"
    }
   ],
   "source": [
    "#statistics\n",
    "df.describe()"
   ]
  },
  {
   "cell_type": "code",
   "execution_count": 7,
   "metadata": {
    "execution": {
     "iopub.execute_input": "2021-01-13T16:39:57.666306Z",
     "iopub.status.busy": "2021-01-13T16:39:57.665460Z",
     "iopub.status.idle": "2021-01-13T16:39:57.673896Z",
     "shell.execute_reply": "2021-01-13T16:39:57.673337Z"
    },
    "papermill": {
     "duration": 0.037366,
     "end_time": "2021-01-13T16:39:57.674016",
     "exception": false,
     "start_time": "2021-01-13T16:39:57.636650",
     "status": "completed"
    },
    "tags": []
   },
   "outputs": [
    {
     "data": {
      "text/plain": [
       "(550, 7)"
      ]
     },
     "execution_count": 7,
     "metadata": {},
     "output_type": "execute_result"
    }
   ],
   "source": [
    "#no of rows and columns\n",
    "df.shape"
   ]
  },
  {
   "cell_type": "code",
   "execution_count": 8,
   "metadata": {
    "execution": {
     "iopub.execute_input": "2021-01-13T16:39:57.730082Z",
     "iopub.status.busy": "2021-01-13T16:39:57.729336Z",
     "iopub.status.idle": "2021-01-13T16:39:57.733697Z",
     "shell.execute_reply": "2021-01-13T16:39:57.734381Z"
    },
    "papermill": {
     "duration": 0.03655,
     "end_time": "2021-01-13T16:39:57.734528",
     "exception": false,
     "start_time": "2021-01-13T16:39:57.697978",
     "status": "completed"
    },
    "tags": []
   },
   "outputs": [],
   "source": [
    "#label encoding of 3 columns\n",
    "from sklearn.preprocessing import LabelEncoder\n",
    "\n",
    "df1 = df.copy(deep = True)\n",
    "Genre = LabelEncoder()\n",
    "df1['Genre'] = Genre.fit_transform(df['Genre'])"
   ]
  },
  {
   "cell_type": "code",
   "execution_count": 9,
   "metadata": {
    "execution": {
     "iopub.execute_input": "2021-01-13T16:39:57.792032Z",
     "iopub.status.busy": "2021-01-13T16:39:57.791373Z",
     "iopub.status.idle": "2021-01-13T16:39:57.796584Z",
     "shell.execute_reply": "2021-01-13T16:39:57.795990Z"
    },
    "papermill": {
     "duration": 0.037517,
     "end_time": "2021-01-13T16:39:57.796698",
     "exception": false,
     "start_time": "2021-01-13T16:39:57.759181",
     "status": "completed"
    },
    "tags": []
   },
   "outputs": [],
   "source": [
    "from sklearn.preprocessing import LabelEncoder\n",
    "\n",
    "df2 = df1.copy(deep = True)\n",
    "Author = LabelEncoder()\n",
    "df2['Author'] = Author.fit_transform(df1['Author'])"
   ]
  },
  {
   "cell_type": "code",
   "execution_count": 10,
   "metadata": {
    "execution": {
     "iopub.execute_input": "2021-01-13T16:39:57.854615Z",
     "iopub.status.busy": "2021-01-13T16:39:57.853916Z",
     "iopub.status.idle": "2021-01-13T16:39:57.859457Z",
     "shell.execute_reply": "2021-01-13T16:39:57.858881Z"
    },
    "papermill": {
     "duration": 0.038013,
     "end_time": "2021-01-13T16:39:57.859568",
     "exception": false,
     "start_time": "2021-01-13T16:39:57.821555",
     "status": "completed"
    },
    "tags": []
   },
   "outputs": [],
   "source": [
    "from sklearn.preprocessing import LabelEncoder\n",
    "\n",
    "df3 = df2.copy(deep = True)\n",
    "Name = LabelEncoder()\n",
    "df3['Name'] = Name.fit_transform(df2['Name'])"
   ]
  },
  {
   "cell_type": "code",
   "execution_count": 11,
   "metadata": {
    "execution": {
     "iopub.execute_input": "2021-01-13T16:39:57.916529Z",
     "iopub.status.busy": "2021-01-13T16:39:57.915724Z",
     "iopub.status.idle": "2021-01-13T16:39:57.924190Z",
     "shell.execute_reply": "2021-01-13T16:39:57.923540Z"
    },
    "papermill": {
     "duration": 0.038965,
     "end_time": "2021-01-13T16:39:57.924307",
     "exception": false,
     "start_time": "2021-01-13T16:39:57.885342",
     "status": "completed"
    },
    "tags": []
   },
   "outputs": [
    {
     "data": {
      "text/plain": [
       "351"
      ]
     },
     "execution_count": 11,
     "metadata": {},
     "output_type": "execute_result"
    }
   ],
   "source": [
    "Books = df3.Name.nunique()  #number of unique book names\n",
    "Books"
   ]
  },
  {
   "cell_type": "code",
   "execution_count": 12,
   "metadata": {
    "execution": {
     "iopub.execute_input": "2021-01-13T16:39:57.981932Z",
     "iopub.status.busy": "2021-01-13T16:39:57.981233Z",
     "iopub.status.idle": "2021-01-13T16:39:57.988947Z",
     "shell.execute_reply": "2021-01-13T16:39:57.988298Z"
    },
    "papermill": {
     "duration": 0.039541,
     "end_time": "2021-01-13T16:39:57.989121",
     "exception": false,
     "start_time": "2021-01-13T16:39:57.949580",
     "status": "completed"
    },
    "tags": []
   },
   "outputs": [
    {
     "data": {
      "text/plain": [
       "248"
      ]
     },
     "execution_count": 12,
     "metadata": {},
     "output_type": "execute_result"
    }
   ],
   "source": [
    "Authors = df3.Author.nunique()  #number of unique authors\n",
    "Authors "
   ]
  },
  {
   "cell_type": "code",
   "execution_count": 13,
   "metadata": {
    "execution": {
     "iopub.execute_input": "2021-01-13T16:39:58.049987Z",
     "iopub.status.busy": "2021-01-13T16:39:58.049127Z",
     "iopub.status.idle": "2021-01-13T16:39:58.491097Z",
     "shell.execute_reply": "2021-01-13T16:39:58.490360Z"
    },
    "papermill": {
     "duration": 0.475411,
     "end_time": "2021-01-13T16:39:58.491236",
     "exception": false,
     "start_time": "2021-01-13T16:39:58.015825",
     "status": "completed"
    },
    "tags": []
   },
   "outputs": [
    {
     "data": {
      "image/png": "[encoded data removed]",
      "text/plain": [
       "<Figure size 864x576 with 2 Axes>"
      ]
     },
     "metadata": {
      "needs_background": "light"
     },
     "output_type": "display_data"
    }
   ],
   "source": [
    "#check correlation and plot heatmap \n",
    "corr1 = df3.corr()\n",
    "plt.figure(figsize = (12,8))\n",
    "sns.heatmap(corr1,annot=True)\n",
    "plt.show()"
   ]
  },
  {
   "cell_type": "code",
   "execution_count": 14,
   "metadata": {
    "execution": {
     "iopub.execute_input": "2021-01-13T16:39:58.585033Z",
     "iopub.status.busy": "2021-01-13T16:39:58.584148Z",
     "iopub.status.idle": "2021-01-13T16:40:00.018512Z",
     "shell.execute_reply": "2021-01-13T16:40:00.017912Z"
    },
    "papermill": {
     "duration": 1.486418,
     "end_time": "2021-01-13T16:40:00.018620",
     "exception": false,
     "start_time": "2021-01-13T16:39:58.532202",
     "status": "completed"
    },
    "tags": []
   },
   "outputs": [
    {
     "data": {
      "text/html": [
       "        <script type=\"text/javascript\">\n",
       "        window.PlotlyConfig = {MathJaxConfig: 'local'};\n",
       "        if (window.MathJax) {MathJax.Hub.Config({SVG: {font: \"STIX-Web\"}});}\n",
       "        if (typeof require !== 'undefined') {\n",
       "        require.undef(\"plotly\");\n",
       "        requirejs.config({\n",
       "            paths: {\n",
       "                'plotly': ['https://cdn.plot.ly/plotly-latest.min']\n",
       "            }\n",
       "        });\n",
       "        require(['plotly'], function(Plotly) {\n",
       "            window._Plotly = Plotly;\n",
       "        });\n",
       "        }\n",
       "        </script>\n",
       "        "
      ]
     },
     "metadata": {},
     "output_type": "display_data"
    },
    {
     "data": {
      "text/html": [
       "<div>                            <div id=\"20ae419d-ad35-4d73-8b2b-a8706f75f998\" class=\"plotly-graph-div\" style=\"height:525px; width:100%;\"></div>            <script type=\"text/javascript\">                require([\"plotly\"], function(Plotly) {                    window.PLOTLYENV=window.PLOTLYENV || {};                                    if (document.getElementById(\"20ae419d-ad35-4d73-8b2b-a8706f75f998\")) {                    Plotly.newPlot(                        \"20ae419d-ad35-4d73-8b2b-a8706f75f998\",                        [{\"domain\": {\"x\": [0.0, 1.0], \"y\": [0.0, 1.0]}, \"hovertemplate\": \"Genre=%{label}<br>count=%{value}<extra></extra>\", \"labels\": [\"Non Fiction\", \"Fiction\"], \"legendgroup\": \"\", \"name\": \"\", \"showlegend\": true, \"type\": \"pie\", \"values\": [310, 240]}],                        {\"legend\": {\"tracegroupgap\": 0}, \"piecolorway\": [\"blue\", \"light green\"], \"template\": {\"data\": {\"bar\": [{\"error_x\": {\"color\": \"#2a3f5f\"}, \"error_y\": {\"color\": \"#2a3f5f\"}, \"marker\": {\"line\": {\"color\": \"#E5ECF6\", \"width\": 0.5}}, \"type\": \"bar\"}], \"barpolar\": [{\"marker\": {\"line\": {\"color\": \"#E5ECF6\", \"width\": 0.5}}, \"type\": \"barpolar\"}], \"carpet\": [{\"aaxis\": {\"endlinecolor\": \"#2a3f5f\", \"gridcolor\": \"white\", \"linecolor\": \"white\", \"minorgridcolor\": \"white\", \"startlinecolor\": \"#2a3f5f\"}, \"baxis\": {\"endlinecolor\": \"#2a3f5f\", \"gridcolor\": \"white\", \"linecolor\": \"white\", \"minorgridcolor\": \"white\", \"startlinecolor\": \"#2a3f5f\"}, \"type\": \"carpet\"}], \"choropleth\": [{\"colorbar\": {\"outlinewidth\": 0, \"ticks\": \"\"}, \"type\": \"choropleth\"}], \"contour\": [{\"colorbar\": {\"outlinewidth\": 0, \"ticks\": \"\"}, \"colorscale\": [[0.0, \"#0d0887\"], [0.1111111111111111, \"#46039f\"], [0.2222222222222222, \"#7201a8\"], [0.3333333333333333, \"#9c179e\"], [0.4444444444444444, \"#bd3786\"], [0.5555555555555556, \"#d8576b\"], [0.6666666666666666, \"#ed7953\"], [0.7777777777777778, \"#fb9f3a\"], [0.8888888888888888, \"#fdca26\"], [1.0, \"#f0f921\"]], \"type\": \"contour\"}], \"contourcarpet\": [{\"colorbar\": {\"outlinewidth\": 0, \"ticks\": \"\"}, \"type\": \"contourcarpet\"}], \"heatmap\": [{\"colorbar\": {\"outlinewidth\": 0, \"ticks\": \"\"}, \"colorscale\": [[0.0, \"#0d0887\"], [0.1111111111111111, \"#46039f\"], [0.2222222222222222, \"#7201a8\"], [0.3333333333333333, \"#9c179e\"], [0.4444444444444444, \"#bd3786\"], [0.5555555555555556, \"#d8576b\"], [0.6666666666666666, \"#ed7953\"], [0.7777777777777778, \"#fb9f3a\"], [0.8888888888888888, \"#fdca26\"], [1.0, \"#f0f921\"]], \"type\": \"heatmap\"}], \"heatmapgl\": [{\"colorbar\": {\"outlinewidth\": 0, \"ticks\": \"\"}, \"colorscale\": [[0.0, \"#0d0887\"], [0.1111111111111111, \"#46039f\"], [0.2222222222222222, \"#7201a8\"], [0.3333333333333333, \"#9c179e\"], [0.4444444444444444, \"#bd3786\"], [0.5555555555555556, \"#d8576b\"], [0.6666666666666666, \"#ed7953\"], [0.7777777777777778, \"#fb9f3a\"], [0.8888888888888888, \"#fdca26\"], [1.0, \"#f0f921\"]], \"type\": \"heatmapgl\"}], \"histogram\": [{\"marker\": {\"colorbar\": {\"outlinewidth\": 0, \"ticks\": \"\"}}, \"type\": \"histogram\"}], \"histogram2d\": [{\"colorbar\": {\"outlinewidth\": 0, \"ticks\": \"\"}, \"colorscale\": [[0.0, \"#0d0887\"], [0.1111111111111111, \"#46039f\"], [0.2222222222222222, \"#7201a8\"], [0.3333333333333333, \"#9c179e\"], [0.4444444444444444, \"#bd3786\"], [0.5555555555555556, \"#d8576b\"], [0.6666666666666666, \"#ed7953\"], [0.7777777777777778, \"#fb9f3a\"], [0.8888888888888888, \"#fdca26\"], [1.0, \"#f0f921\"]], \"type\": \"histogram2d\"}], \"histogram2dcontour\": [{\"colorbar\": {\"outlinewidth\": 0, \"ticks\": \"\"}, \"colorscale\": [[0.0, \"#0d0887\"], [0.1111111111111111, \"#46039f\"], [0.2222222222222222, \"#7201a8\"], [0.3333333333333333, \"#9c179e\"], [0.4444444444444444, \"#bd3786\"], [0.5555555555555556, \"#d8576b\"], [0.6666666666666666, \"#ed7953\"], [0.7777777777777778, \"#fb9f3a\"], [0.8888888888888888, \"#fdca26\"], [1.0, \"#f0f921\"]], \"type\": \"histogram2dcontour\"}], \"mesh3d\": [{\"colorbar\": {\"outlinewidth\": 0, \"ticks\": \"\"}, \"type\": \"mesh3d\"}], \"parcoords\": [{\"line\": {\"colorbar\": {\"outlinewidth\": 0, \"ticks\": \"\"}}, \"type\": \"parcoords\"}], \"pie\": [{\"automargin\": true, \"type\": \"pie\"}], \"scatter\": [{\"marker\": {\"colorbar\": {\"outlinewidth\": 0, \"ticks\": \"\"}}, \"type\": \"scatter\"}], \"scatter3d\": [{\"line\": {\"colorbar\": {\"outlinewidth\": 0, \"ticks\": \"\"}}, \"marker\": {\"colorbar\": {\"outlinewidth\": 0, \"ticks\": \"\"}}, \"type\": \"scatter3d\"}], \"scattercarpet\": [{\"marker\": {\"colorbar\": {\"outlinewidth\": 0, \"ticks\": \"\"}}, \"type\": \"scattercarpet\"}], \"scattergeo\": [{\"marker\": {\"colorbar\": {\"outlinewidth\": 0, \"ticks\": \"\"}}, \"type\": \"scattergeo\"}], \"scattergl\": [{\"marker\": {\"colorbar\": {\"outlinewidth\": 0, \"ticks\": \"\"}}, \"type\": \"scattergl\"}], \"scattermapbox\": [{\"marker\": {\"colorbar\": {\"outlinewidth\": 0, \"ticks\": \"\"}}, \"type\": \"scattermapbox\"}], \"scatterpolar\": [{\"marker\": {\"colorbar\": {\"outlinewidth\": 0, \"ticks\": \"\"}}, \"type\": \"scatterpolar\"}], \"scatterpolargl\": [{\"marker\": {\"colorbar\": {\"outlinewidth\": 0, \"ticks\": \"\"}}, \"type\": \"scatterpolargl\"}], \"scatterternary\": [{\"marker\": {\"colorbar\": {\"outlinewidth\": 0, \"ticks\": \"\"}}, \"type\": \"scatterternary\"}], \"surface\": [{\"colorbar\": {\"outlinewidth\": 0, \"ticks\": \"\"}, \"colorscale\": [[0.0, \"#0d0887\"], [0.1111111111111111, \"#46039f\"], [0.2222222222222222, \"#7201a8\"], [0.3333333333333333, \"#9c179e\"], [0.4444444444444444, \"#bd3786\"], [0.5555555555555556, \"#d8576b\"], [0.6666666666666666, \"#ed7953\"], [0.7777777777777778, \"#fb9f3a\"], [0.8888888888888888, \"#fdca26\"], [1.0, \"#f0f921\"]], \"type\": \"surface\"}], \"table\": [{\"cells\": {\"fill\": {\"color\": \"#EBF0F8\"}, \"line\": {\"color\": \"white\"}}, \"header\": {\"fill\": {\"color\": \"#C8D4E3\"}, \"line\": {\"color\": \"white\"}}, \"type\": \"table\"}]}, \"layout\": {\"annotationdefaults\": {\"arrowcolor\": \"#2a3f5f\", \"arrowhead\": 0, \"arrowwidth\": 1}, \"autotypenumbers\": \"strict\", \"coloraxis\": {\"colorbar\": {\"outlinewidth\": 0, \"ticks\": \"\"}}, \"colorscale\": {\"diverging\": [[0, \"#8e0152\"], [0.1, \"#c51b7d\"], [0.2, \"#de77ae\"], [0.3, \"#f1b6da\"], [0.4, \"#fde0ef\"], [0.5, \"#f7f7f7\"], [0.6, \"#e6f5d0\"], [0.7, \"#b8e186\"], [0.8, \"#7fbc41\"], [0.9, \"#4d9221\"], [1, \"#276419\"]], \"sequential\": [[0.0, \"#0d0887\"], [0.1111111111111111, \"#46039f\"], [0.2222222222222222, \"#7201a8\"], [0.3333333333333333, \"#9c179e\"], [0.4444444444444444, \"#bd3786\"], [0.5555555555555556, \"#d8576b\"], [0.6666666666666666, \"#ed7953\"], [0.7777777777777778, \"#fb9f3a\"], [0.8888888888888888, \"#fdca26\"], [1.0, \"#f0f921\"]], \"sequentialminus\": [[0.0, \"#0d0887\"], [0.1111111111111111, \"#46039f\"], [0.2222222222222222, \"#7201a8\"], [0.3333333333333333, \"#9c179e\"], [0.4444444444444444, \"#bd3786\"], [0.5555555555555556, \"#d8576b\"], [0.6666666666666666, \"#ed7953\"], [0.7777777777777778, \"#fb9f3a\"], [0.8888888888888888, \"#fdca26\"], [1.0, \"#f0f921\"]]}, \"colorway\": [\"#636efa\", \"#EF553B\", \"#00cc96\", \"#ab63fa\", \"#FFA15A\", \"#19d3f3\", \"#FF6692\", \"#B6E880\", \"#FF97FF\", \"#FECB52\"], \"font\": {\"color\": \"#2a3f5f\"}, \"geo\": {\"bgcolor\": \"white\", \"lakecolor\": \"white\", \"landcolor\": \"#E5ECF6\", \"showlakes\": true, \"showland\": true, \"subunitcolor\": \"white\"}, \"hoverlabel\": {\"align\": \"left\"}, \"hovermode\": \"closest\", \"mapbox\": {\"style\": \"light\"}, \"paper_bgcolor\": \"white\", \"plot_bgcolor\": \"#E5ECF6\", \"polar\": {\"angularaxis\": {\"gridcolor\": \"white\", \"linecolor\": \"white\", \"ticks\": \"\"}, \"bgcolor\": \"#E5ECF6\", \"radialaxis\": {\"gridcolor\": \"white\", \"linecolor\": \"white\", \"ticks\": \"\"}}, \"scene\": {\"xaxis\": {\"backgroundcolor\": \"#E5ECF6\", \"gridcolor\": \"white\", \"gridwidth\": 2, \"linecolor\": \"white\", \"showbackground\": true, \"ticks\": \"\", \"zerolinecolor\": \"white\"}, \"yaxis\": {\"backgroundcolor\": \"#E5ECF6\", \"gridcolor\": \"white\", \"gridwidth\": 2, \"linecolor\": \"white\", \"showbackground\": true, \"ticks\": \"\", \"zerolinecolor\": \"white\"}, \"zaxis\": {\"backgroundcolor\": \"#E5ECF6\", \"gridcolor\": \"white\", \"gridwidth\": 2, \"linecolor\": \"white\", \"showbackground\": true, \"ticks\": \"\", \"zerolinecolor\": \"white\"}}, \"shapedefaults\": {\"line\": {\"color\": \"#2a3f5f\"}}, \"ternary\": {\"aaxis\": {\"gridcolor\": \"white\", \"linecolor\": \"white\", \"ticks\": \"\"}, \"baxis\": {\"gridcolor\": \"white\", \"linecolor\": \"white\", \"ticks\": \"\"}, \"bgcolor\": \"#E5ECF6\", \"caxis\": {\"gridcolor\": \"white\", \"linecolor\": \"white\", \"ticks\": \"\"}}, \"title\": {\"x\": 0.05}, \"xaxis\": {\"automargin\": true, \"gridcolor\": \"white\", \"linecolor\": \"white\", \"ticks\": \"\", \"title\": {\"standoff\": 15}, \"zerolinecolor\": \"white\", \"zerolinewidth\": 2}, \"yaxis\": {\"automargin\": true, \"gridcolor\": \"white\", \"linecolor\": \"white\", \"ticks\": \"\", \"title\": {\"standoff\": 15}, \"zerolinecolor\": \"white\", \"zerolinewidth\": 2}}}, \"title\": {\"text\": \"Genre\"}},                        {\"responsive\": true}                    ).then(function(){\n",
       "                            \n",
       "var gd = document.getElementById('20ae419d-ad35-4d73-8b2b-a8706f75f998');\n",
       "var x = new MutationObserver(function (mutations, observer) {{\n",
       "        var display = window.getComputedStyle(gd).display;\n",
       "        if (!display || display === 'none') {{\n",
       "            console.log([gd, 'removed!']);\n",
       "            Plotly.purge(gd);\n",
       "            observer.disconnect();\n",
       "        }}\n",
       "}});\n",
       "\n",
       "// Listen for the removal of the full notebook cells\n",
       "var notebookContainer = gd.closest('#notebook-container');\n",
       "if (notebookContainer) {{\n",
       "    x.observe(notebookContainer, {childList: true});\n",
       "}}\n",
       "\n",
       "// Listen for the clearing of the current output cell\n",
       "var outputEl = gd.closest('.output');\n",
       "if (outputEl) {{\n",
       "    x.observe(outputEl, {childList: true});\n",
       "}}\n",
       "\n",
       "                        })                };                });            </script>        </div>"
      ]
     },
     "metadata": {},
     "output_type": "display_data"
    }
   ],
   "source": [
    "#Genre wise classification\n",
    "pie_df = df.Genre.value_counts().reset_index()\n",
    "pie_df.columns = ['Genre', 'count']\n",
    "fig = px.pie(pie_df, values='count', names='Genre', title='Genre',\n",
    "             color_discrete_sequence=['blue', 'light green'])\n",
    "fig.show()"
   ]
  },
  {
   "cell_type": "code",
   "execution_count": 15,
   "metadata": {
    "execution": {
     "iopub.execute_input": "2021-01-13T16:40:00.086811Z",
     "iopub.status.busy": "2021-01-13T16:40:00.085884Z",
     "iopub.status.idle": "2021-01-13T16:40:00.249043Z",
     "shell.execute_reply": "2021-01-13T16:40:00.249529Z"
    },
    "papermill": {
     "duration": 0.201275,
     "end_time": "2021-01-13T16:40:00.249675",
     "exception": false,
     "start_time": "2021-01-13T16:40:00.048400",
     "status": "completed"
    },
    "tags": []
   },
   "outputs": [
    {
     "data": {
      "image/png": "[encoded data removed]",
      "text/plain": [
       "<Figure size 432x288 with 1 Axes>"
      ]
     },
     "metadata": {
      "needs_background": "light"
     },
     "output_type": "display_data"
    }
   ],
   "source": [
    "#variations wrt year \n",
    "sns.countplot('Year', data=df)\n",
    "plt.show()"
   ]
  },
  {
   "cell_type": "code",
   "execution_count": 16,
   "metadata": {
    "execution": {
     "iopub.execute_input": "2021-01-13T16:40:00.314241Z",
     "iopub.status.busy": "2021-01-13T16:40:00.311794Z",
     "iopub.status.idle": "2021-01-13T16:40:00.317943Z",
     "shell.execute_reply": "2021-01-13T16:40:00.317112Z"
    },
    "papermill": {
     "duration": 0.03889,
     "end_time": "2021-01-13T16:40:00.318056",
     "exception": false,
     "start_time": "2021-01-13T16:40:00.279166",
     "status": "completed"
    },
    "tags": []
   },
   "outputs": [],
   "source": [
    "#import seaborn as sns\n",
    "#sns.set_theme(style=\"darkgrid\")\n",
    "#p = sns.load_dataset(\"df\")\n",
    "#ax = sns.countplot(x=\"Price\", data=p)"
   ]
  },
  {
   "cell_type": "code",
   "execution_count": 17,
   "metadata": {
    "execution": {
     "iopub.execute_input": "2021-01-13T16:40:00.392076Z",
     "iopub.status.busy": "2021-01-13T16:40:00.391141Z",
     "iopub.status.idle": "2021-01-13T16:40:00.632732Z",
     "shell.execute_reply": "2021-01-13T16:40:00.632068Z"
    },
    "papermill": {
     "duration": 0.284916,
     "end_time": "2021-01-13T16:40:00.632838",
     "exception": false,
     "start_time": "2021-01-13T16:40:00.347922",
     "status": "completed"
    },
    "tags": []
   },
   "outputs": [
    {
     "data": {
      "text/plain": [
       "<matplotlib.axes._subplots.AxesSubplot at 0x7f9bd8774850>"
      ]
     },
     "execution_count": 17,
     "metadata": {},
     "output_type": "execute_result"
    },
    {
     "data": {
      "image/png": "[encoded data removed]",
      "text/plain": [
       "<Figure size 432x288 with 1 Axes>"
      ]
     },
     "metadata": {
      "needs_background": "light"
     },
     "output_type": "display_data"
    }
   ],
   "source": [
    "#how much it costs?\n",
    "sns.distplot(df[\"Price\"])"
   ]
  },
  {
   "cell_type": "code",
   "execution_count": 18,
   "metadata": {
    "execution": {
     "iopub.execute_input": "2021-01-13T16:40:00.709254Z",
     "iopub.status.busy": "2021-01-13T16:40:00.706180Z",
     "iopub.status.idle": "2021-01-13T16:40:00.963697Z",
     "shell.execute_reply": "2021-01-13T16:40:00.963020Z"
    },
    "papermill": {
     "duration": 0.300186,
     "end_time": "2021-01-13T16:40:00.963809",
     "exception": false,
     "start_time": "2021-01-13T16:40:00.663623",
     "status": "completed"
    },
    "tags": []
   },
   "outputs": [
    {
     "data": {
      "text/plain": [
       "<matplotlib.axes._subplots.AxesSubplot at 0x7f9bd8671b10>"
      ]
     },
     "execution_count": 18,
     "metadata": {},
     "output_type": "execute_result"
    },
    {
     "data": {
      "image/png": "[encoded data removed]",
      "text/plain": [
       "<Figure size 432x288 with 1 Axes>"
      ]
     },
     "metadata": {
      "needs_background": "light"
     },
     "output_type": "display_data"
    }
   ],
   "source": [
    "#What are people's reviews\n",
    "sns.distplot(df[\"Reviews\"])"
   ]
  },
  {
   "cell_type": "code",
   "execution_count": 19,
   "metadata": {
    "execution": {
     "iopub.execute_input": "2021-01-13T16:40:01.033579Z",
     "iopub.status.busy": "2021-01-13T16:40:01.032343Z",
     "iopub.status.idle": "2021-01-13T16:40:01.300741Z",
     "shell.execute_reply": "2021-01-13T16:40:01.300008Z"
    },
    "papermill": {
     "duration": 0.305362,
     "end_time": "2021-01-13T16:40:01.300862",
     "exception": false,
     "start_time": "2021-01-13T16:40:00.995500",
     "status": "completed"
    },
    "tags": []
   },
   "outputs": [
    {
     "data": {
      "text/plain": [
       "<matplotlib.axes._subplots.AxesSubplot at 0x7f9bd85f1390>"
      ]
     },
     "execution_count": 19,
     "metadata": {},
     "output_type": "execute_result"
    },
    {
     "data": {
      "image/png": "[encoded data removed]",
      "text/plain": [
       "<Figure size 432x288 with 1 Axes>"
      ]
     },
     "metadata": {
      "needs_background": "light"
     },
     "output_type": "display_data"
    }
   ],
   "source": [
    "#How people rate the book\n",
    "sns.distplot(df[\"User Rating\"])"
   ]
  },
  {
   "cell_type": "code",
   "execution_count": 20,
   "metadata": {
    "execution": {
     "iopub.execute_input": "2021-01-13T16:40:01.378187Z",
     "iopub.status.busy": "2021-01-13T16:40:01.377146Z",
     "iopub.status.idle": "2021-01-13T16:40:01.601158Z",
     "shell.execute_reply": "2021-01-13T16:40:01.600426Z"
    },
    "papermill": {
     "duration": 0.266772,
     "end_time": "2021-01-13T16:40:01.601306",
     "exception": false,
     "start_time": "2021-01-13T16:40:01.334534",
     "status": "completed"
    },
    "tags": []
   },
   "outputs": [
    {
     "data": {
      "image/png": "[encoded data removed]",
      "text/plain": [
       "<Figure size 576x360 with 1 Axes>"
      ]
     },
     "metadata": {
      "needs_background": "light"
     },
     "output_type": "display_data"
    }
   ],
   "source": [
    "df_new1 = df.drop_duplicates(subset=['Name'])\n",
    "\n",
    "highest_reviews = df_new1[['Name','Reviews']].groupby('Name').sum().sort_values('Reviews', ascending=False)\n",
    "\n",
    "highest_reviews.iloc[:10].plot(kind='barh', color=['skyblue', 'blue'])\n",
    "plt.gcf().set_size_inches(8, 5)\n",
    "plt.title('10 Books with the Most Reviews')\n",
    "plt.gca().invert_yaxis()\n",
    "plt.xlabel('Number of Reviews')\n",
    "_ = plt.ylabel('Book')"
   ]
  },
  {
   "cell_type": "code",
   "execution_count": 21,
   "metadata": {
    "execution": {
     "iopub.execute_input": "2021-01-13T16:40:01.717989Z",
     "iopub.status.busy": "2021-01-13T16:40:01.717032Z",
     "iopub.status.idle": "2021-01-13T16:40:01.942783Z",
     "shell.execute_reply": "2021-01-13T16:40:01.943306Z"
    },
    "papermill": {
     "duration": 0.291095,
     "end_time": "2021-01-13T16:40:01.943530",
     "exception": false,
     "start_time": "2021-01-13T16:40:01.652435",
     "status": "completed"
    },
    "tags": []
   },
   "outputs": [
    {
     "data": {
      "image/png": "[encoded data removed]",
      "text/plain": [
       "<Figure size 576x360 with 1 Axes>"
      ]
     },
     "metadata": {
      "needs_background": "light"
     },
     "output_type": "display_data"
    }
   ],
   "source": [
    "df_new1 = df.drop_duplicates(subset=['Name'])\n",
    "\n",
    "#books with the highest number of reviews\n",
    "highest_rating = df_new1[['Name','User Rating']].groupby('Name').sum().sort_values('User Rating', ascending=False)\n",
    "\n",
    "highest_rating.iloc[:10].plot(kind='barh',color=['skyblue', 'blue'])\n",
    "plt.gcf().set_size_inches(8,5)\n",
    "plt.title('First 10 Books with the Highest ratings')\n",
    "plt.gca().invert_yaxis()\n",
    "plt.xlabel('Ratings')\n",
    "_ = plt.ylabel('Book')"
   ]
  },
  {
   "cell_type": "code",
   "execution_count": 22,
   "metadata": {
    "execution": {
     "iopub.execute_input": "2021-01-13T16:40:02.029316Z",
     "iopub.status.busy": "2021-01-13T16:40:02.023299Z",
     "iopub.status.idle": "2021-01-13T16:40:02.225530Z",
     "shell.execute_reply": "2021-01-13T16:40:02.224834Z"
    },
    "papermill": {
     "duration": 0.243782,
     "end_time": "2021-01-13T16:40:02.225641",
     "exception": false,
     "start_time": "2021-01-13T16:40:01.981859",
     "status": "completed"
    },
    "tags": []
   },
   "outputs": [
    {
     "data": {
      "image/png": "[encoded data removed]",
      "text/plain": [
       "<Figure size 576x360 with 1 Axes>"
      ]
     },
     "metadata": {
      "needs_background": "light"
     },
     "output_type": "display_data"
    }
   ],
   "source": [
    "df_new2 = df.drop_duplicates(subset=['Author'])\n",
    "\n",
    "#authors with the highest number of reviews\n",
    "highest_rating_auth = df_new2[['Author','Reviews']].groupby('Author').sum().sort_values('Reviews', ascending=False)\n",
    "\n",
    "highest_rating_auth.iloc[:10].plot(kind='barh',color=['lightgreen', 'blue'])\n",
    "plt.gcf().set_size_inches(8,5)\n",
    "plt.title('First 10 Authors with the Highest reviews')\n",
    "plt.gca().invert_yaxis()\n",
    "plt.xlabel('Reviews')\n",
    "_ = plt.ylabel('Author Name')"
   ]
  },
  {
   "cell_type": "code",
   "execution_count": 23,
   "metadata": {
    "execution": {
     "iopub.execute_input": "2021-01-13T16:40:02.317543Z",
     "iopub.status.busy": "2021-01-13T16:40:02.312221Z",
     "iopub.status.idle": "2021-01-13T16:40:02.569175Z",
     "shell.execute_reply": "2021-01-13T16:40:02.568498Z"
    },
    "papermill": {
     "duration": 0.305854,
     "end_time": "2021-01-13T16:40:02.569301",
     "exception": false,
     "start_time": "2021-01-13T16:40:02.263447",
     "status": "completed"
    },
    "tags": []
   },
   "outputs": [
    {
     "data": {
      "image/png": "[encoded data removed]",
      "text/plain": [
       "<Figure size 576x360 with 1 Axes>"
      ]
     },
     "metadata": {
      "needs_background": "light"
     },
     "output_type": "display_data"
    }
   ],
   "source": [
    "df_new = df.drop_duplicates(subset=['Author'])\n",
    "\n",
    "#authors with the highest number of reviews\n",
    "highest_rating_auth = df_new[['Author','User Rating']].groupby('Author').sum().sort_values('User Rating', ascending=False)\n",
    "\n",
    "highest_rating_auth.iloc[:10].plot(kind='barh',color=['lightgreen', 'blue'])\n",
    "plt.gcf().set_size_inches(8,5)\n",
    "plt.title('First 10 Authors with the Highest rating books')\n",
    "plt.gca().invert_yaxis()\n",
    "plt.xlabel('User Rating')\n",
    "_ = plt.ylabel('Author Name')"
   ]
  },
  {
   "cell_type": "code",
   "execution_count": 24,
   "metadata": {
    "execution": {
     "iopub.execute_input": "2021-01-13T16:40:02.674986Z",
     "iopub.status.busy": "2021-01-13T16:40:02.674111Z",
     "iopub.status.idle": "2021-01-13T16:40:02.678113Z",
     "shell.execute_reply": "2021-01-13T16:40:02.677480Z"
    },
    "papermill": {
     "duration": 0.06931,
     "end_time": "2021-01-13T16:40:02.678221",
     "exception": false,
     "start_time": "2021-01-13T16:40:02.608911",
     "status": "completed"
    },
    "tags": []
   },
   "outputs": [],
   "source": [
    "#Dependent variables\n",
    "X = np.array(df3[['Name', 'Author', 'Reviews', 'Price', 'Year', 'Genre']]) \n",
    "\n",
    "#Independent variables\n",
    "y = np.array(df3[\"User Rating\"])  "
   ]
  },
  {
   "cell_type": "code",
   "execution_count": 25,
   "metadata": {
    "execution": {
     "iopub.execute_input": "2021-01-13T16:40:02.764131Z",
     "iopub.status.busy": "2021-01-13T16:40:02.763338Z",
     "iopub.status.idle": "2021-01-13T16:40:02.770620Z",
     "shell.execute_reply": "2021-01-13T16:40:02.769845Z"
    },
    "papermill": {
     "duration": 0.0522,
     "end_time": "2021-01-13T16:40:02.770736",
     "exception": false,
     "start_time": "2021-01-13T16:40:02.718536",
     "status": "completed"
    },
    "tags": []
   },
   "outputs": [
    {
     "data": {
      "text/plain": [
       "array([[    0,   114, 17350,     8,  2016,     1],\n",
       "       [    1,   219,  2052,    22,  2011,     0],\n",
       "       [    2,   134, 18979,    15,  2018,     1],\n",
       "       ...,\n",
       "       [  350,   121, 14331,     8,  2017,     1],\n",
       "       [  350,   121, 14331,     8,  2018,     1],\n",
       "       [  350,   121, 14331,     8,  2019,     1]])"
      ]
     },
     "execution_count": 25,
     "metadata": {},
     "output_type": "execute_result"
    }
   ],
   "source": [
    "X"
   ]
  },
  {
   "cell_type": "code",
   "execution_count": 26,
   "metadata": {
    "execution": {
     "iopub.execute_input": "2021-01-13T16:40:02.863117Z",
     "iopub.status.busy": "2021-01-13T16:40:02.856475Z",
     "iopub.status.idle": "2021-01-13T16:40:02.871238Z",
     "shell.execute_reply": "2021-01-13T16:40:02.870583Z"
    },
    "papermill": {
     "duration": 0.059863,
     "end_time": "2021-01-13T16:40:02.871387",
     "exception": false,
     "start_time": "2021-01-13T16:40:02.811524",
     "status": "completed"
    },
    "tags": []
   },
   "outputs": [
    {
     "data": {
      "text/plain": [
       "array([4.7, 4.6, 4.7, 4.7, 4.8, 4.4, 4.7, 4.7, 4.7, 4.6, 4.6, 4.6, 4.6,\n",
       "       4.5, 4.6, 4.5, 4.6, 4.4, 4.5, 4.8, 4.6, 4.6, 3.9, 4.6, 4.3, 4.6,\n",
       "       4.7, 4.2, 4.6, 4.6, 4.8, 4.7, 4.8, 4.8, 4.8, 4.7, 4.7, 4.7, 4.6,\n",
       "       4.5, 4.9, 4.9, 4.8, 4.6, 4.8, 4.5, 4.7, 4.7, 4.7, 4.7, 4.7, 4.7,\n",
       "       4.7, 4.3, 4.8, 4.8, 4.6, 4.6, 4.8, 4.4, 4.6, 4.3, 4.2, 4.8, 4.8,\n",
       "       4.8, 4.8, 4.6, 4.6, 4.5, 4.5, 4.8, 4.8, 4.8, 4.6, 4.6, 4.6, 4.5,\n",
       "       4.6, 4.7, 4.8, 4.9, 4.9, 4.9, 4.9, 4.9, 4.9, 4.9, 4.8, 4.6, 4.5,\n",
       "       4.5, 4.3, 4.5, 4.5, 4.7, 4.7, 4.7, 4.7, 4.7, 4.6, 4.6, 4.7, 4.4,\n",
       "       4.4, 4.5, 3.8, 3.8, 4.5, 4.2, 4.7, 4.7, 4.7, 4.7, 4.7, 4.4, 4.7,\n",
       "       4.4, 4.6, 4.6, 4.6, 4.5, 4.6, 4.8, 4.8, 4.8, 4.8, 4.8, 4.6, 4.6,\n",
       "       4.6, 4.6, 3.6, 4.8, 4.6, 4. , 4. , 4. , 4.6, 4.5, 4.5, 4.5, 4.5,\n",
       "       4.8, 4.8, 4.8, 4.9, 4.9, 4.6, 4.4, 4.8, 4.9, 4.8, 4.9, 4. , 4.9,\n",
       "       4.9, 4.9, 4.7, 4.8, 4.8, 4.7, 4.7, 4.4, 4.4, 4.8, 4.7, 4.7, 4.7,\n",
       "       4.7, 4.7, 4.3, 4.8, 4.8, 4.9, 4.7, 4.8, 4.6, 4.8, 4.8, 4.3, 4.4,\n",
       "       4.1, 4.6, 4.4, 4.4, 4.8, 4.9, 4.9, 4.9, 4.9, 4.9, 4.9, 4.6, 4.5,\n",
       "       4.6, 4.5, 4.6, 4.7, 4.7, 4.6, 4.6, 4.8, 4.8, 4.5, 4.5, 4.5, 4.9,\n",
       "       4.6, 4.6, 4.6, 4.6, 4.6, 4.5, 4.5, 4.4, 4.8, 4.5, 4.1, 4.9, 4.5,\n",
       "       4.5, 4.2, 4.8, 4.8, 4.8, 4.5, 4.7, 4.8, 4.7, 4.7, 4.7, 4.4, 4.6,\n",
       "       4.6, 4.6, 4.5, 4.5, 4.5, 4.8, 4.8, 4.6, 4.7, 4.6, 4.9, 4.9, 4.9,\n",
       "       4.9, 4.9, 4.9, 4.9, 4.9, 4.9, 4.8, 4.2, 4.6, 4.6, 4.5, 4.3, 4.6,\n",
       "       4.6, 4.6, 4.7, 4.7, 4.8, 4.8, 4.8, 4.8, 4.7, 4.3, 4.3, 4.5, 4.5,\n",
       "       4.5, 4.5, 4.5, 4.5, 4.5, 4.5, 4.5, 4.5, 4.8, 4.6, 4.6, 4.7, 4.7,\n",
       "       4.6, 4.6, 4.9, 4.9, 4.8, 4.8, 4.6, 4.8, 4.8, 4.7, 4.7, 4.8, 4.1,\n",
       "       4.7, 4.6, 4.6, 4.6, 4.9, 4. , 4. , 4. , 4. , 4. , 4. , 4. , 4. ,\n",
       "       4. , 4.5, 4.6, 4.5, 4.4, 4.4, 4.3, 4.3, 4.7, 4.7, 4.7, 4.7, 4.7,\n",
       "       4.8, 4.8, 4.8, 4.8, 4.8, 4.8, 4.6, 4.6, 4.6, 4.6, 4.7, 4.7, 4.7,\n",
       "       4.7, 4.6, 4.7, 4.7, 4.7, 4.8, 4.2, 4.8, 4.7, 4.6, 4.6, 4.8, 4.8,\n",
       "       4.8, 4.8, 3.3, 4.7, 4.3, 4.3, 4.3, 4.8, 4.4, 4.8, 4.8, 4.8, 4.1,\n",
       "       4. , 4.7, 4.7, 4.7, 4.7, 4.6, 4.6, 4.6, 4.6, 4.6, 4.6, 4.7, 4.7,\n",
       "       4.7, 4.7, 4.7, 4.7, 4.8, 4.1, 4.1, 4.7, 4.7, 4.7, 4.7, 4.4, 4.4,\n",
       "       4.8, 4.8, 3.9, 3.9, 4.4, 4.4, 4.4, 4.5, 4.7, 4.3, 4.6, 4.8, 4.8,\n",
       "       4.8, 4.8, 4.8, 4.8, 4.7, 4.7, 4.7, 4.8, 4.8, 4.7, 4.7, 4.7, 4.3,\n",
       "       4.3, 4.7, 4.8, 4.8, 4.9, 4.4, 4.4, 4.5, 4.5, 4.5, 4.5, 4.4, 4.8,\n",
       "       4.2, 4.8, 4.9, 4.8, 4.7, 4.5, 4.8, 4.6, 4.8, 4.8, 4.4, 4.4, 4.4,\n",
       "       4.4, 4.4, 4.3, 4.3, 4.8, 4.8, 4.8, 4.5, 4.4, 4.8, 4.8, 4.6, 4.3,\n",
       "       4.3, 4.6, 4.6, 4.8, 4.6, 4.6, 4.6, 4.5, 4.8, 4.6, 4.6, 4.6, 4.7,\n",
       "       4.7, 4.7, 4.4, 4.4, 4.7, 4.7, 4.8, 4.7, 4.9, 4.9, 4.9, 4.9, 4.9,\n",
       "       4.9, 4.9, 4.6, 4.6, 4.6, 4.9, 4.9, 4.9, 4.9, 4.8, 4.8, 4.7, 4.7,\n",
       "       4.6, 4.6, 4.5, 4.5, 4.3, 4.3, 4.6, 4.6, 4.6, 4.6, 4.3, 4.8, 4.8,\n",
       "       4.8, 4.8, 4.8, 4.6, 4.8, 4.5, 4.7, 4.5, 4.8, 4.8, 4.8, 4.8, 4.8,\n",
       "       4.3, 4.9, 4.8, 4.7, 4.8, 4.5, 4.6, 4.7, 4.7, 4.8, 4.4, 4.4, 4.4,\n",
       "       4.8, 4.8, 4.8, 4.6, 4.4, 4.5, 4.2, 4.8, 4.8, 4.8, 4.8, 4.8, 4.9,\n",
       "       4.7, 4.7, 4.7, 4.7])"
      ]
     },
     "execution_count": 26,
     "metadata": {},
     "output_type": "execute_result"
    }
   ],
   "source": [
    "y"
   ]
  },
  {
   "cell_type": "code",
   "execution_count": 27,
   "metadata": {
    "execution": {
     "iopub.execute_input": "2021-01-13T16:40:02.959752Z",
     "iopub.status.busy": "2021-01-13T16:40:02.958849Z",
     "iopub.status.idle": "2021-01-13T16:40:02.966139Z",
     "shell.execute_reply": "2021-01-13T16:40:02.965570Z"
    },
    "papermill": {
     "duration": 0.055215,
     "end_time": "2021-01-13T16:40:02.966327",
     "exception": false,
     "start_time": "2021-01-13T16:40:02.911112",
     "status": "completed"
    },
    "tags": []
   },
   "outputs": [],
   "source": [
    "X_train, X_test, y_train, y_test = train_test_split(X, y, test_size=0.30, random_state = 100)                                    "
   ]
  },
  {
   "cell_type": "code",
   "execution_count": 28,
   "metadata": {
    "execution": {
     "iopub.execute_input": "2021-01-13T16:40:03.092792Z",
     "iopub.status.busy": "2021-01-13T16:40:03.064368Z",
     "iopub.status.idle": "2021-01-13T16:40:03.096052Z",
     "shell.execute_reply": "2021-01-13T16:40:03.095415Z"
    },
    "papermill": {
     "duration": 0.088612,
     "end_time": "2021-01-13T16:40:03.096160",
     "exception": false,
     "start_time": "2021-01-13T16:40:03.007548",
     "status": "completed"
    },
    "tags": []
   },
   "outputs": [],
   "source": [
    "#Perform Linear Regression\n",
    "from sklearn import linear_model\n",
    "# Create linear regression object\n",
    "reg = linear_model.LinearRegression()\n",
    "# Train the model \n",
    "reg.fit(X_train, y_train)\n",
    "y1 = reg.predict(X_test)"
   ]
  },
  {
   "cell_type": "code",
   "execution_count": 29,
   "metadata": {
    "execution": {
     "iopub.execute_input": "2021-01-13T16:40:03.182173Z",
     "iopub.status.busy": "2021-01-13T16:40:03.181326Z",
     "iopub.status.idle": "2021-01-13T16:40:03.187239Z",
     "shell.execute_reply": "2021-01-13T16:40:03.186698Z"
    },
    "papermill": {
     "duration": 0.051197,
     "end_time": "2021-01-13T16:40:03.187375",
     "exception": false,
     "start_time": "2021-01-13T16:40:03.136178",
     "status": "completed"
    },
    "tags": []
   },
   "outputs": [
    {
     "name": "stdout",
     "output_type": "stream",
     "text": [
      "Mean Absolute Error: 0.1669345745737908\n"
     ]
    }
   ],
   "source": [
    "print(\"Mean Absolute Error: \" + str(mean_absolute_error(y_test, y1)))"
   ]
  },
  {
   "cell_type": "code",
   "execution_count": 30,
   "metadata": {
    "execution": {
     "iopub.execute_input": "2021-01-13T16:40:03.276217Z",
     "iopub.status.busy": "2021-01-13T16:40:03.275318Z",
     "iopub.status.idle": "2021-01-13T16:40:03.280799Z",
     "shell.execute_reply": "2021-01-13T16:40:03.280134Z"
    },
    "papermill": {
     "duration": 0.05295,
     "end_time": "2021-01-13T16:40:03.280898",
     "exception": false,
     "start_time": "2021-01-13T16:40:03.227948",
     "status": "completed"
    },
    "tags": []
   },
   "outputs": [
    {
     "name": "stdout",
     "output_type": "stream",
     "text": [
      "Mean Square Error: 0.04523247402376413\n"
     ]
    }
   ],
   "source": [
    "print(\"Mean Square Error: \" + str(mean_squared_error(y_test, y1)))"
   ]
  },
  {
   "cell_type": "code",
   "execution_count": 31,
   "metadata": {
    "execution": {
     "iopub.execute_input": "2021-01-13T16:40:03.370108Z",
     "iopub.status.busy": "2021-01-13T16:40:03.369139Z",
     "iopub.status.idle": "2021-01-13T16:40:03.375738Z",
     "shell.execute_reply": "2021-01-13T16:40:03.374988Z"
    },
    "papermill": {
     "duration": 0.054161,
     "end_time": "2021-01-13T16:40:03.375847",
     "exception": false,
     "start_time": "2021-01-13T16:40:03.321686",
     "status": "completed"
    },
    "tags": []
   },
   "outputs": [
    {
     "name": "stdout",
     "output_type": "stream",
     "text": [
      "Root Mean Square Error: 0.21267927502171935\n"
     ]
    }
   ],
   "source": [
    "print(\"Root Mean Square Error: \" + str(math.sqrt(mean_squared_error(y_test, y1))))"
   ]
  },
  {
   "cell_type": "code",
   "execution_count": 32,
   "metadata": {
    "execution": {
     "iopub.execute_input": "2021-01-13T16:40:03.464800Z",
     "iopub.status.busy": "2021-01-13T16:40:03.464050Z",
     "iopub.status.idle": "2021-01-13T16:40:03.471374Z",
     "shell.execute_reply": "2021-01-13T16:40:03.470695Z"
    },
    "papermill": {
     "duration": 0.054383,
     "end_time": "2021-01-13T16:40:03.471482",
     "exception": false,
     "start_time": "2021-01-13T16:40:03.417099",
     "status": "completed"
    },
    "tags": []
   },
   "outputs": [
    {
     "name": "stdout",
     "output_type": "stream",
     "text": [
      "R2 score: -0.009603772358845353\n"
     ]
    }
   ],
   "source": [
    "print(\"R2 score: \" + str(r2_score(y_test, y1)))"
   ]
  },
  {
   "cell_type": "code",
   "execution_count": null,
   "metadata": {
    "papermill": {
     "duration": 0.041595,
     "end_time": "2021-01-13T16:40:03.554689",
     "exception": false,
     "start_time": "2021-01-13T16:40:03.513094",
     "status": "completed"
    },
    "tags": []
   },
   "outputs": [],
   "source": []
  }
 ],
 "metadata": {
  "kernelspec": {
   "display_name": "Python 3",
   "language": "python",
   "name": "python3"
  },
  "language_info": {
   "codemirror_mode": {
    "name": "ipython",
    "version": 3
   },
   "file_extension": ".py",
   "mimetype": "text/x-python",
   "name": "python",
   "nbconvert_exporter": "python",
   "pygments_lexer": "ipython3",
   "version": "3.7.6"
  },
  "papermill": {
   "duration": 13.74074,
   "end_time": "2021-01-13T16:40:03.706175",
   "environment_variables": {},
   "exception": null,
   "input_path": "__notebook__.ipynb",
   "output_path": "__notebook__.ipynb",
   "parameters": {},
   "start_time": "2021-01-13T16:39:49.965435",
   "version": "2.1.0"
  }
 },
 "nbformat": 4,
 "nbformat_minor": 4
}
